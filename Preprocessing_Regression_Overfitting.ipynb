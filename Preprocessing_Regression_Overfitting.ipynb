{
 "cells": [
  {
   "cell_type": "markdown",
   "metadata": {},
   "source": [
    "## Part 1:  Linear regression on medical insurance data\n",
    "\n",
    "We will try to predict insurance charges based on a collection of features that include age, gender, body-mass-index (BMI), number of children, whether a person smokes, and the region in the US the live in.\n",
    "Since the file contains string data in addition to numeric data let's first read the file using the Python `requests` module:"
   ]
  },
  {
   "cell_type": "code",
   "execution_count": 7,
   "metadata": {},
   "outputs": [],
   "source": [
    "import requests\n",
    "# if you don't have requests installed you can use urlopen which is part\n",
    "# of the python standard library\n",
    "# from urllib.request import urlopen\n",
    "link = \"https://github.com/asabenhur/CS345/raw/master/fall22/data/insurance.csv\"\n",
    "# retrieve the contents of the file\n",
    "contents = requests.get(link)"
   ]
  },
  {
   "cell_type": "markdown",
   "metadata": {},
   "source": [
    "Let's take a look at the first five rows of the data:"
   ]
  },
  {
   "cell_type": "code",
   "execution_count": 2,
   "metadata": {},
   "outputs": [
    {
     "data": {
      "text/plain": [
       "['age,sex,bmi,children,smoker,region,charges',\n",
       " '19,female,27.9,0,yes,southwest,16884.924',\n",
       " '18,male,33.77,1,no,southeast,1725.5523',\n",
       " '28,male,33,3,no,southeast,4449.462',\n",
       " '33,male,22.705,0,no,northwest,21984.47061']"
      ]
     },
     "execution_count": 2,
     "metadata": {},
     "output_type": "execute_result"
    }
   ],
   "source": [
    "contents.text.split()[:5]"
   ]
  },
  {
   "cell_type": "markdown",
   "metadata": {},
   "source": [
    "As you can see the header specifies the names of the features:\n",
    "\n",
    "```\n",
    "age,sex,bmi,children,smoker,region,charges\n",
    "```\n",
    "\n",
    "The names are self explanatory.  We will use the last column as our label/target variable, and try to predict it from the other variables.\n",
    "\n",
    "Since the data is a mix of numerical and categorical variables, we will need to do some work to create a feature matrix from this file.\n",
    "\n",
    "This data has three types of features:\n",
    "\n",
    "* Numerical data (the age, bmi, and children features)\n",
    "* Categorical data that has one of two values (the sex and smoker features)\n",
    "* Categorical data that has more than two possible values.  The \"region\" feature has the values \"southwest\", \"southeast\", \"northwest\", and \"northeast\".\n",
    "\n",
    "Numerical data can be left as is (but may need to be standardized); binary categorical data can be converted to 0/1.  Categorical variables with more than two possible values require a different approach, which is called \"one-hot-encoding\", where each value receives its own feature, and the single categorical variable is replaced with a set of features.  The number of features equals the number of unique values that the categorical variable takes, and a categorical value is encoded as a vector of zeros, with a single value of one in the feature that corresponds to the given value.  Let us demonstrate this using the one-hot-encoder of scikit-learn on our \"region\" variable:"
   ]
  },
  {
   "cell_type": "code",
   "execution_count": 3,
   "metadata": {},
   "outputs": [
    {
     "data": {
      "text/plain": [
       "array([[0., 0., 0., 1.],\n",
       "       [0., 0., 1., 0.],\n",
       "       [0., 1., 0., 0.],\n",
       "       [1., 0., 0., 0.]])"
      ]
     },
     "execution_count": 3,
     "metadata": {},
     "output_type": "execute_result"
    }
   ],
   "source": [
    "from sklearn.preprocessing import OneHotEncoder\n",
    "\n",
    "# a mock dataset of regions:\n",
    "X = [['southwest'], ['southeast'], ['northwest'], ['northeast']]\n",
    "# create an instance of one hot encoder\n",
    "encoder = OneHotEncoder()\n",
    "# apply it to the data:\n",
    "encoder.fit_transform(X).toarray()\n",
    "# we have converted the output of fit_transform from a sparse array\n",
    "# type to a regular NumPy array so we can easily see the values"
   ]
  },
  {
   "cell_type": "markdown",
   "metadata": {},
   "source": [
    "In your code you may not use the scikit-learn one-hot-encoder.\n",
    "\n",
    "Now, you might ask why not simply encode these four values using the number 0-3.  The issue with doing that is that this representation imposes an order on the values, an order that does not necessarily reflect the interpretation of these features in the real world.\n",
    "\n",
    "Your tasks are as follows:\n",
    "\n",
    "* Create a feature matrix and labels vector from the given data as described above.\n",
    "* Split the data into separate train and test sets with 30% of the data reserved for testing.\n",
    "* Evaluate the error of linear regression on the train and test sets.  In doing so, first standardize the features.  Note that not all the features should be standardized - only the age and BMI features need that, because they are significantly larger than one.  You can use the scikit-learn implementations for linear regression, but note that its implementation for standardization does not provide the necessary flexibility to perform standardization on a selected set of features only.  Note that when standardizing, *only the features need to be standardized*.  The labels should remain unaltered.\n",
    "* As discussed in class, the magnitude of the components of the weight vector provide an indication of the usefulness of a feature. Using the components of the weight vector, choose a subset of the features that are most useful for the regression task (use the absolute value of the weight, because large negative values also suggest usefulness).  Compare the error before and after removing the features with the lowest weight vector components.  Comment on your results.\n",
    "\n",
    "For computing regression error use mean asbsolute error (MAE)."
   ]
  },
  {
   "cell_type": "code",
   "execution_count": 8,
   "metadata": {},
   "outputs": [],
   "source": [
    "#1st question of Part 1\n",
    "import pandas as pd\n",
    "from io import StringIO\n",
    "import numpy as np\n",
    "X = pd.read_csv(StringIO(contents.text), delimiter=',').values\n",
    "y = X[:,-1]\n",
    "X = X[:,:-1]\n",
    "\n",
    "#Changing Male to 0 and Female to 1\n",
    "X[X[:,1]=='male', 1] = 0\n",
    "X[X[:,1]=='female', 1] = 1\n",
    "#Changing No to 0 and Yes to 1\n",
    "X[X[:,4]=='yes', 4] = 1\n",
    "X[X[:,4]=='no', 4] = 0\n",
    "#OneHotEncoder of region: southwest=0, southeast=1, northwest=2, northeast=3\n",
    "regions = np.zeros((len(X), 4))\n",
    "regions[X[:,5]=='southwest',0] = 1\n",
    "regions[X[:,5]=='southeast',1] = 1\n",
    "regions[X[:,5]=='northwest',2] = 1\n",
    "regions[X[:,5]=='northeast',3] = 1\n",
    "X = X[:,:-1]\n",
    "X = np.hstack((X, regions))"
   ]
  },
  {
   "cell_type": "code",
   "execution_count": 9,
   "metadata": {},
   "outputs": [
    {
     "name": "stdout",
     "output_type": "stream",
     "text": [
      "MAE on Training Set: 4112.4600599405785\n",
      "MAE on Test Set: 4265.532445901738\n"
     ]
    }
   ],
   "source": [
    "#2nd and 3rd part of Part 1\n",
    "from sklearn.metrics import mean_absolute_error\n",
    "from sklearn.model_selection import train_test_split\n",
    "from sklearn.linear_model import LinearRegression\n",
    "#X[age,sex,bmi,children,smoker,southwest, southeast, northwest, northeast]\n",
    "\n",
    "#standardizing age\n",
    "X[:,0] = (X[:,0] - (np.mean(X[:,0], axis=0))) / (np.std(X[:,0], axis=0))\n",
    "#standardizing BMI\n",
    "X[:,2] = (X[:,2] - (np.mean(X[:,2], axis=0))) / (np.std(X[:,2], axis=0))\n",
    "#splitting into train and test sets\n",
    "X_train, X_test, y_train, y_test = train_test_split(X, y, test_size=0.3)\n",
    "#fitting the model on the train set\n",
    "linreg = LinearRegression()\n",
    "linreg.fit(X_train, y_train)\n",
    "#compute predictions on train and test sets\n",
    "y_test_pred = linreg.predict(X_test)\n",
    "y_train_pred = linreg.predict(X_train)\n",
    "#Compute and print MAE\n",
    "mae_train_before = mean_absolute_error(y_train, y_train_pred)\n",
    "mae_test_before = mean_absolute_error(y_test, y_test_pred)\n",
    "print(f'MAE on Training Set: {mae_train_before}')\n",
    "print(f'MAE on Test Set: {mae_test_before}')"
   ]
  },
  {
   "cell_type": "code",
   "execution_count": 16,
   "metadata": {},
   "outputs": [
    {
     "name": "stdout",
     "output_type": "stream",
     "text": [
      "Weight of Age: 3607.4727361941873\n",
      "Weight of Sex: 131.31435939511292\n",
      "Weight of BMI: 2067.6919658434217\n",
      "Weight of Children: 475.50054514913546\n",
      "Weight of Smoker: 23848.534541912824\n",
      "Weight of Southwest: 373.0417562725024\n",
      "Weight of Southeast: 448.0128143594975\n",
      "Weight of Northwest: 234.04533560368068\n",
      "Weight of Northeast: 587.0092350283215\n",
      "\n"
     ]
    },
    {
     "data": {
      "text/html": [
       "<div>\n",
       "<style scoped>\n",
       "    .dataframe tbody tr th:only-of-type {\n",
       "        vertical-align: middle;\n",
       "    }\n",
       "\n",
       "    .dataframe tbody tr th {\n",
       "        vertical-align: top;\n",
       "    }\n",
       "\n",
       "    .dataframe thead th {\n",
       "        text-align: right;\n",
       "    }\n",
       "</style>\n",
       "<table border=\"1\" class=\"dataframe\">\n",
       "  <thead>\n",
       "    <tr style=\"text-align: right;\">\n",
       "      <th></th>\n",
       "      <th>Train</th>\n",
       "      <th>Test</th>\n",
       "    </tr>\n",
       "  </thead>\n",
       "  <tbody>\n",
       "    <tr>\n",
       "      <th>All Features</th>\n",
       "      <td>4112.460060</td>\n",
       "      <td>4265.532446</td>\n",
       "    </tr>\n",
       "    <tr>\n",
       "      <th>Only Useful Featues</th>\n",
       "      <td>4206.589346</td>\n",
       "      <td>4269.081864</td>\n",
       "    </tr>\n",
       "  </tbody>\n",
       "</table>\n",
       "</div>"
      ],
      "text/plain": [
       "                           Train         Test\n",
       "All Features         4112.460060  4265.532446\n",
       "Only Useful Featues  4206.589346  4269.081864"
      ]
     },
     "execution_count": 16,
     "metadata": {},
     "output_type": "execute_result"
    }
   ],
   "source": [
    "#4th question of Part 1\n",
    "#instantiate and fit the model\n",
    "linreg = LinearRegression()\n",
    "linreg.fit(X,y)\n",
    "# print the coefficients\n",
    "print (f'Weight of Age: {linreg.coef_[0]}')\n",
    "print (f'Weight of Sex: {linreg.coef_[1]}')\n",
    "print (f'Weight of BMI: {linreg.coef_[2]}')\n",
    "print (f'Weight of Children: {linreg.coef_[3]}')\n",
    "print (f'Weight of Smoker: {linreg.coef_[4]}')\n",
    "print (f'Weight of Southwest: {abs(linreg.coef_[5])}')\n",
    "print (f'Weight of Southeast: {abs(linreg.coef_[6])}')\n",
    "print (f'Weight of Northwest: {abs(linreg.coef_[7])}')\n",
    "print (f'Weight of Northeast: {abs(linreg.coef_[8])}')\n",
    "#selecting only the Age, BMI, and Smoker features because they had the biggest weights\n",
    "X_most_useful = np.hstack((np.stack((X[:,0], X[:,2]), axis=1), X[:,4].reshape(-1,1)))\n",
    "#splitting the new dataset into train and test sets\n",
    "X_train_most_useful, X_test_most_useful, y_train, y_test = train_test_split(X_most_useful, y, test_size=0.3)\n",
    "#fitting the model on the train set\n",
    "linreg.fit(X_train_most_useful, y_train)\n",
    "#compute predictions on train and test sets\n",
    "y_test_pred = linreg.predict(X_test_most_useful)\n",
    "y_train_pred = linreg.predict(X_train_most_useful)\n",
    "#Compute and print MAE\n",
    "mae_train_after = mean_absolute_error(y_train, y_train_pred)\n",
    "mae_test_after = mean_absolute_error(y_test, y_test_pred)\n",
    "print()\n",
    "pd.DataFrame([[mae_train_before, mae_test_before],\n",
    "              [mae_train_after, mae_test_after]], \n",
    "             index=['All Features','Only Useful Featues'], columns=['Train','Test'])"
   ]
  },
  {
   "cell_type": "markdown",
   "metadata": {},
   "source": [
    "**In the 2nd and 3rd parts of the assignment, I selected age, bmi, and smoker to be the most useful featues. I used those three features and calculated the mean average error. In the table above, the MAE for all features and only useful features are recorded. You can observe that the training set is better fitting with all features than only three features. This is accurate because the model has more information that it can analyze, but the useful features only has three features. In the 2nd column, you can see that the MAE for test sets are very similar. This suggests that using only the three features is just as good as using all features in the original dataset. The other features might be redundant and could be dropped to save computational resources and reduce overhead.**"
   ]
  },
  {
   "cell_type": "markdown",
   "metadata": {},
   "source": [
    "## Part 2:  polynomial regression\n",
    "\n",
    "In this part we will explore polynomial regression using the [California housing dataset](https://scikit-learn.org/stable/modules/generated/sklearn.datasets.fetch_california_housing.html#sklearn.datasets.fetch_california_housing), which is distributed with scikit-learn."
   ]
  },
  {
   "cell_type": "code",
   "execution_count": 1,
   "metadata": {},
   "outputs": [],
   "source": [
    "from sklearn.datasets import fetch_california_housing\n",
    "data = fetch_california_housing()\n",
    "X = data.data\n",
    "y = data.target"
   ]
  },
  {
   "cell_type": "markdown",
   "metadata": {},
   "source": [
    "A complete description of the dataset and its features is contained in the `DESCR` attribute of the dataset:\n",
    "\n",
    "```python\n",
    "print(data.DESCR)\n",
    "```\n",
    "\n",
    "Let's plot a histogram of the labels:"
   ]
  },
  {
   "cell_type": "code",
   "execution_count": 88,
   "metadata": {},
   "outputs": [
    {
     "data": {
      "text/plain": [
       "(array([   9.,   14.,   61.,  255.,  538.,  676.,  546.,  803.,  881.,\n",
       "         706.,  812.,  715.,  836.,  815.,  921.,  960.,  786.,  817.,\n",
       "         703.,  505.,  620.,  661.,  578.,  508.,  432.,  439.,  463.,\n",
       "         331.,  320.,  216.,  224.,  232.,  245.,  252.,  286.,  193.,\n",
       "         160.,  149.,  117.,  133.,  104.,   99.,   80.,   90.,  106.,\n",
       "          66.,   49.,   51.,   47., 1030.]),\n",
       " array([0.14999  , 0.2469904, 0.3439908, 0.4409912, 0.5379916, 0.634992 ,\n",
       "        0.7319924, 0.8289928, 0.9259932, 1.0229936, 1.119994 , 1.2169944,\n",
       "        1.3139948, 1.4109952, 1.5079956, 1.604996 , 1.7019964, 1.7989968,\n",
       "        1.8959972, 1.9929976, 2.089998 , 2.1869984, 2.2839988, 2.3809992,\n",
       "        2.4779996, 2.575    , 2.6720004, 2.7690008, 2.8660012, 2.9630016,\n",
       "        3.060002 , 3.1570024, 3.2540028, 3.3510032, 3.4480036, 3.545004 ,\n",
       "        3.6420044, 3.7390048, 3.8360052, 3.9330056, 4.030006 , 4.1270064,\n",
       "        4.2240068, 4.3210072, 4.4180076, 4.515008 , 4.6120084, 4.7090088,\n",
       "        4.8060092, 4.9030096, 5.00001  ]),\n",
       " <BarContainer object of 50 artists>)"
      ]
     },
     "execution_count": 88,
     "metadata": {},
     "output_type": "execute_result"
    },
    {
     "data": {
      "image/png": "[encoded data removed]",
      "text/plain": [
       "<Figure size 400x400 with 1 Axes>"
      ]
     },
     "metadata": {},
     "output_type": "display_data"
    }
   ],
   "source": [
    "from matplotlib import pyplot as plt\n",
    "plt.figure(figsize=(4,4))\n",
    "plt.hist(y, bins=50)"
   ]
  },
  {
   "cell_type": "markdown",
   "metadata": {},
   "source": [
    "Here is your task:\n",
    "\n",
    "* Compute the error of polynomial basis regression as a function of the degree of the polynomial for the Boston housing dataset.  Start with degree equal to 1, i.e. using the features as-is.  In each case compute accuracy for both the training set, and a separate test set.  Report the results as a nicely formatted table and comment on what you observe:  is there overfitting or underfitting?  You can use the scikit-learn [PolynomialFeatures](https://scikit-learn.org/stable/modules/generated/sklearn.preprocessing.PolynomialFeatures.html) functionality in conjunction with the [pipeline](https://scikit-learn.org/stable/modules/generated/sklearn.pipeline.Pipeline.html) class as shown in class.  It is *highly recommended* to standardize the features for this task, and to include standardization as part of the pipeline.\n",
    "* Choose a value of the degree for which polynomial basis regression yields overfitting.  We will use ridge regression to reduce the effect of overfitting.  Plot the accuracy of polynomial basis regression as a function of the regularization parameter $\\alpha$ for both the training set and test set.  Is there a value of $\\alpha$ for which you are able to obtain test set error that is similar or better than the error of linear regression?  Are you observing overfitting or underfitting in your plot?\n",
    "* As a baseline, compute the error of a simple regression method that for a given regression problem always returns the median label value.  Compare this error with the error using linear regression and comment on the result.  Why is computing the error of this naive method a useful thing to do?"
   ]
  },
  {
   "cell_type": "code",
   "execution_count": 5,
   "metadata": {},
   "outputs": [
    {
     "data": {
      "text/html": [
       "<div>\n",
       "<style scoped>\n",
       "    .dataframe tbody tr th:only-of-type {\n",
       "        vertical-align: middle;\n",
       "    }\n",
       "\n",
       "    .dataframe tbody tr th {\n",
       "        vertical-align: top;\n",
       "    }\n",
       "\n",
       "    .dataframe thead th {\n",
       "        text-align: right;\n",
       "    }\n",
       "</style>\n",
       "<table border=\"1\" class=\"dataframe\">\n",
       "  <thead>\n",
       "    <tr style=\"text-align: right;\">\n",
       "      <th></th>\n",
       "      <th>test</th>\n",
       "      <th>train</th>\n",
       "    </tr>\n",
       "  </thead>\n",
       "  <tbody>\n",
       "    <tr>\n",
       "      <th>1</th>\n",
       "      <td>0.524288</td>\n",
       "      <td>0.535342</td>\n",
       "    </tr>\n",
       "    <tr>\n",
       "      <th>2</th>\n",
       "      <td>0.479219</td>\n",
       "      <td>0.461488</td>\n",
       "    </tr>\n",
       "    <tr>\n",
       "      <th>3</th>\n",
       "      <td>0.423315</td>\n",
       "      <td>0.421324</td>\n",
       "    </tr>\n",
       "    <tr>\n",
       "      <th>4</th>\n",
       "      <td>25656.823449</td>\n",
       "      <td>0.375900</td>\n",
       "    </tr>\n",
       "    <tr>\n",
       "      <th>5</th>\n",
       "      <td>75053.880031</td>\n",
       "      <td>0.336195</td>\n",
       "    </tr>\n",
       "    <tr>\n",
       "      <th>6</th>\n",
       "      <td>5173.189566</td>\n",
       "      <td>0.291601</td>\n",
       "    </tr>\n",
       "  </tbody>\n",
       "</table>\n",
       "</div>"
      ],
      "text/plain": [
       "           test     train\n",
       "1      0.524288  0.535342\n",
       "2      0.479219  0.461488\n",
       "3      0.423315  0.421324\n",
       "4  25656.823449  0.375900\n",
       "5  75053.880031  0.336195\n",
       "6   5173.189566  0.291601"
      ]
     },
     "execution_count": 5,
     "metadata": {},
     "output_type": "execute_result"
    }
   ],
   "source": [
    "#Features in X: [MedInc, HouseAge, AveRooms, AveBedrms, Population, AveOccup, Latitude, Longitude]\n",
    "from sklearn.pipeline import Pipeline\n",
    "from sklearn.preprocessing import PolynomialFeatures\n",
    "from sklearn.linear_model import LinearRegression\n",
    "from sklearn.metrics import mean_absolute_error\n",
    "from sklearn.model_selection import train_test_split\n",
    "from sklearn.preprocessing import StandardScaler\n",
    "import pandas as pd\n",
    "\n",
    "degrees = [1,2,3,4,5,6]\n",
    "errors = []\n",
    "\n",
    "#Polynomial basis regression\n",
    "for i in degrees:\n",
    "    X_train, X_test, y_train, y_test = train_test_split(X, y, test_size=0.3)\n",
    "    poly = PolynomialFeatures(degree=i,include_bias=False)\n",
    "    linreg = LinearRegression()\n",
    "    \n",
    "    pipeline = Pipeline([('scalar', StandardScaler()), ('poly', poly), ('linreg', linreg)])\n",
    "    pipeline.fit(X_train, y_train)\n",
    "    \n",
    "    y_train_pred = pipeline.predict(X_train) \n",
    "    y_test_pred = pipeline.predict(X_test)\n",
    "    \n",
    "    mae_train = mean_absolute_error(y_train, y_train_pred)\n",
    "    mae_test = mean_absolute_error(y_test, y_test_pred)\n",
    "    \n",
    "    errors.append([mae_test, mae_train])\n",
    "\n",
    "#Compute and print dataframe\n",
    "pd.DataFrame(errors, columns=['test', 'train'], index=degrees)\n",
    "    \n"
   ]
  },
  {
   "cell_type": "markdown",
   "metadata": {},
   "source": [
    "**From the table above, you can observe that after degree 3, the errors are drastically different for the test sets. 1, 2, and 3 are similar in terms of test errors, but the train errors decrease, which indicates that the model performs better at higher degrees until 3. Thereafter, the test errors are very high. In contrast, the train errors continue to decrease, which indicates overfitting. Models after degree 3 perform well on the train sets but not on test sets indicating that the models have memorized the train sets rather than learning from them.**"
   ]
  },
  {
   "cell_type": "code",
   "execution_count": 6,
   "metadata": {},
   "outputs": [
    {
     "name": "stderr",
     "output_type": "stream",
     "text": [
      "c:\\Users\\ayus3\\AppData\\Local\\Programs\\Python\\Python311\\Lib\\site-packages\\sklearn\\linear_model\\_ridge.py:211: LinAlgWarning: Ill-conditioned matrix (rcond=8.52138e-21): result may not be accurate.\n",
      "  return linalg.solve(A, Xy, assume_a=\"pos\", overwrite_a=True).T\n",
      "c:\\Users\\ayus3\\AppData\\Local\\Programs\\Python\\Python311\\Lib\\site-packages\\sklearn\\linear_model\\_ridge.py:211: LinAlgWarning: Ill-conditioned matrix (rcond=8.52138e-20): result may not be accurate.\n",
      "  return linalg.solve(A, Xy, assume_a=\"pos\", overwrite_a=True).T\n",
      "c:\\Users\\ayus3\\AppData\\Local\\Programs\\Python\\Python311\\Lib\\site-packages\\sklearn\\linear_model\\_ridge.py:211: LinAlgWarning: Ill-conditioned matrix (rcond=8.52138e-19): result may not be accurate.\n",
      "  return linalg.solve(A, Xy, assume_a=\"pos\", overwrite_a=True).T\n",
      "c:\\Users\\ayus3\\AppData\\Local\\Programs\\Python\\Python311\\Lib\\site-packages\\sklearn\\linear_model\\_ridge.py:211: LinAlgWarning: Ill-conditioned matrix (rcond=2.95238e-18): result may not be accurate.\n",
      "  return linalg.solve(A, Xy, assume_a=\"pos\", overwrite_a=True).T\n",
      "c:\\Users\\ayus3\\AppData\\Local\\Programs\\Python\\Python311\\Lib\\site-packages\\sklearn\\linear_model\\_ridge.py:211: LinAlgWarning: Ill-conditioned matrix (rcond=3.86474e-17): result may not be accurate.\n",
      "  return linalg.solve(A, Xy, assume_a=\"pos\", overwrite_a=True).T\n"
     ]
    },
    {
     "data": {
      "text/html": [
       "<div>\n",
       "<style scoped>\n",
       "    .dataframe tbody tr th:only-of-type {\n",
       "        vertical-align: middle;\n",
       "    }\n",
       "\n",
       "    .dataframe tbody tr th {\n",
       "        vertical-align: top;\n",
       "    }\n",
       "\n",
       "    .dataframe thead th {\n",
       "        text-align: right;\n",
       "    }\n",
       "</style>\n",
       "<table border=\"1\" class=\"dataframe\">\n",
       "  <thead>\n",
       "    <tr style=\"text-align: right;\">\n",
       "      <th></th>\n",
       "      <th>test</th>\n",
       "      <th>train</th>\n",
       "    </tr>\n",
       "  </thead>\n",
       "  <tbody>\n",
       "    <tr>\n",
       "      <th>0.0001</th>\n",
       "      <td>0.635596</td>\n",
       "      <td>0.372447</td>\n",
       "    </tr>\n",
       "    <tr>\n",
       "      <th>0.0010</th>\n",
       "      <td>0.613700</td>\n",
       "      <td>0.372549</td>\n",
       "    </tr>\n",
       "    <tr>\n",
       "      <th>0.0100</th>\n",
       "      <td>0.573974</td>\n",
       "      <td>0.373057</td>\n",
       "    </tr>\n",
       "    <tr>\n",
       "      <th>0.1000</th>\n",
       "      <td>0.468572</td>\n",
       "      <td>0.376050</td>\n",
       "    </tr>\n",
       "    <tr>\n",
       "      <th>1.0000</th>\n",
       "      <td>0.449174</td>\n",
       "      <td>0.382544</td>\n",
       "    </tr>\n",
       "    <tr>\n",
       "      <th>10.0000</th>\n",
       "      <td>0.438077</td>\n",
       "      <td>0.392719</td>\n",
       "    </tr>\n",
       "    <tr>\n",
       "      <th>100.0000</th>\n",
       "      <td>0.449682</td>\n",
       "      <td>0.417980</td>\n",
       "    </tr>\n",
       "    <tr>\n",
       "      <th>1000.0000</th>\n",
       "      <td>0.498823</td>\n",
       "      <td>0.475220</td>\n",
       "    </tr>\n",
       "  </tbody>\n",
       "</table>\n",
       "</div>"
      ],
      "text/plain": [
       "               test     train\n",
       "0.0001     0.635596  0.372447\n",
       "0.0010     0.613700  0.372549\n",
       "0.0100     0.573974  0.373057\n",
       "0.1000     0.468572  0.376050\n",
       "1.0000     0.449174  0.382544\n",
       "10.0000    0.438077  0.392719\n",
       "100.0000   0.449682  0.417980\n",
       "1000.0000  0.498823  0.475220"
      ]
     },
     "execution_count": 6,
     "metadata": {},
     "output_type": "execute_result"
    },
    {
     "data": {
      "image/png": "[encoded data removed]",
      "text/plain": [
       "<Figure size 640x480 with 1 Axes>"
      ]
     },
     "metadata": {},
     "output_type": "display_data"
    }
   ],
   "source": [
    "from sklearn.linear_model import Ridge\n",
    "from sklearn.pipeline import make_pipeline\n",
    "from matplotlib import pyplot as plt\n",
    "import numpy as np\n",
    "\n",
    "alphas = [0.0001, 0.001, 0.01, 0.1, 1, 10, 100, 1000]\n",
    "errors = []\n",
    "\n",
    "for i in alphas:\n",
    "    X_train, X_test, y_train, y_test = train_test_split(X, y, test_size=0.3, random_state=1)#results varied without random_state, so I set it to 1\n",
    "    ridge_model = make_pipeline(StandardScaler(), PolynomialFeatures(4), Ridge(alpha=i))\n",
    "    ridge_model.fit(X_train, y_train)\n",
    "    y_fit_test = ridge_model.predict(X_test)\n",
    "    y_fit_train = ridge_model.predict(X_train)\n",
    "    \n",
    "    mae_train = mean_absolute_error(y_train, y_fit_train)\n",
    "    mae_test = mean_absolute_error(y_test, y_fit_test)\n",
    "    \n",
    "    errors.append([mae_test, mae_train])\n",
    "errors = np.array(errors)\n",
    "#Compute and print dataframe\n",
    "plt.semilogx(alphas, errors[:,0], label='test')\n",
    "plt.semilogx(alphas, errors[:,1], label='train')\n",
    "plt.xlabel('Alpha')\n",
    "plt.ylabel('MAE')\n",
    "plt.title('Effect of Ridge regression on overfitting with degree 4')\n",
    "plt.legend()\n",
    "\n",
    "pd.DataFrame(errors, columns=['test', 'train'], index=alphas)"
   ]
  },
  {
   "cell_type": "markdown",
   "metadata": {},
   "source": [
    "**As noted in the comment above, when I use random_state, I get results that show that applying ridge regression helps the model reduce errors. However, when using it without the random_state, the results are varied. I set this to one after asking a TA for help. In the table and graph above, you can see that as the alpha values increase, the errors are also getting smaller. At alpha=0.0001, the test value is 0.63 and as alpha approaches 1, it has decerased to 0.44. This result is very similar to the original model, where degree 3 had the lowest error at .42. Redge regression has definitely helped the model decrease its errors. In the original model for degree 4, the error for test was 25,656, but with ridge regression, the results were closer to the original for degrees 1,2, or 3. You can also observe that after alpha=10, the erros for both train and test start to increase, which is indicative of underfitting. The model is becoming too regularized and losing its ability to see the patterns in the data.**"
   ]
  },
  {
   "cell_type": "code",
   "execution_count": 25,
   "metadata": {},
   "outputs": [
    {
     "name": "stdout",
     "output_type": "stream",
     "text": [
      "MAE of median: 0.8835413124999999\n",
      "MAE of Linreg: 0.5199746599763163\n"
     ]
    }
   ],
   "source": [
    "#using median of y to compute MAE\n",
    "median_pred = np.full(y.shape, np.median(y))\n",
    "median_mae = mean_absolute_error(y, median_pred)\n",
    "#using linreg to compute MAE\n",
    "X_train, X_test, y_train, y_test = train_test_split(X, y, test_size=0.2)\n",
    "linreg = LinearRegression()\n",
    "linreg.fit(X_train, y_train)\n",
    "reg_pred = linreg.predict(X_test)\n",
    "reg_mae = mean_absolute_error(y_test, reg_pred)\n",
    "#printing both MAEs\n",
    "print(f'MAE of median: {median_mae}')\n",
    "print(f'MAE of Linreg: {reg_mae}')\n"
   ]
  },
  {
   "cell_type": "markdown",
   "metadata": {},
   "source": [
    "**The MAE for the median values is a benchmark for models. When we used classification, we noted that 0.5 was a benchmark to see if the model had accuracies better than guessing at random. The simple model for regression serves the same purpose; it lets us know if the model is doing a better job that simply just selecting the median value from the dataset. You would want the MAE of a model to be better than the median. In the results above, you can see that the MAE is significantly lower for the linear regression model, which indicates that it is a better model.**"
   ]
  },
  {
   "cell_type": "markdown",
   "metadata": {},
   "source": [
    "### Your Report\n",
    "\n",
    "Answer the questions in the cells reserved for that purpose.\n",
    "\n",
    "### Submission\n",
    "\n",
    "Submit your report as a Jupyter notebook via Canvas.  Running the notebook should generate all the plots in your notebook.\n",
    "\n",
    "### Grading \n",
    "\n",
    "Although we will not grade on a 100 pt scale, the following is a grading sheet that will help you:\n",
    "\n",
    "\n",
    "```\n",
    "Grading sheet for assignment 4\n",
    "\n",
    "Part 1:  5 points.\n",
    "Dataset creation:  all the features were correctly converted to \n",
    "numerical values and the BMI and age values were standardized (1.5 pts)\n",
    "Evaluation of linear regression (1.5 pts)\n",
    "Feature selection based on weight vector magnitude, including discussion of the choice of features (2 pts)\n",
    "\n",
    "Part 2:  5 points.\n",
    "Train/test accuracy as a function of the degree of polynomial \n",
    "regression (1.5 pts)\n",
    "Identification of model that exhibits overfitting (1 pt)\n",
    "Successful application of ridge regression to prevent overfitting (2 pts)\n",
    "Baseline comparison (0.5 pt)\n",
    "\n",
    "```\n",
    "\n",
    "Grading will be based on the following criteria:\n",
    "\n",
    "  * Code correctness.\n",
    "  * Code is well organized.\n",
    "  * Plots and other results are well formatted and easy to understand.\n",
    "  * Interesting and meaningful observations made where requested."
   ]
  }
 ],
 "metadata": {
  "kernelspec": {
   "display_name": "Python 3 (ipykernel)",
   "language": "python",
   "name": "python3"
  },
  "language_info": {
   "codemirror_mode": {
    "name": "ipython",
    "version": 3
   },
   "file_extension": ".py",
   "mimetype": "text/x-python",
   "name": "python",
   "nbconvert_exporter": "python",
   "pygments_lexer": "ipython3",
   "version": "3.11.4"
  },
  "vscode": {
   "interpreter": {
    "hash": "93336a7f7438c515cb85586a730006d01b259bdf0f19a18be521102e41eab284"
   }
  }
 },
 "nbformat": 4,
 "nbformat_minor": 1
}
