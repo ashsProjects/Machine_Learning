{
  "cells": [
    {
      "cell_type": "markdown",
      "metadata": {
        "id": "Ruh-RepTkkoT"
      },
      "source": [
        "# NNet class in Pytorch"
      ]
    },
    {
      "cell_type": "markdown",
      "metadata": {
        "id": "t3vVLfrnkkoW"
      },
      "source": [
        "In this assignment, we will complete an implementation of a neural network class that uses `pytorch`.  We will then use it to conduct some training experiments on specified data. The data will be partitioned into some number of non-intersecting folds.  We will train, validate and test neural networks of various sizes on all ways of picking one fold to be testing, one fold to be validation, and remaining folds to be training sets."
      ]
    },
    {
      "cell_type": "markdown",
      "metadata": {
        "id": "YCBtaNtykkoY"
      },
      "source": [
        "## Implementation"
      ]
    },
    {
      "cell_type": "code",
      "execution_count": 1,
      "metadata": {
        "id": "gEFNqw2lkkoY"
      },
      "outputs": [],
      "source": [
        "import numpy as np\n",
        "import torch\n",
        "import pandas\n",
        "import matplotlib.pyplot as plt"
      ]
    },
    {
      "cell_type": "code",
      "execution_count": 2,
      "metadata": {
        "id": "NAOXHKFJkkob"
      },
      "outputs": [],
      "source": [
        "class NNet(torch.nn.Module):\n",
        "\n",
        "    def __init__(self, n_inputs, n_hiddens_per_layer, n_outputs, act_func='tanh'):\n",
        "        super().__init__()  # call parent class (torch.nn.Module) constructor\n",
        "\n",
        "        # Set self.n_hiddens_per_layer to [] if argument is 0, [], or [0]\n",
        "        if n_hiddens_per_layer == 0 or n_hiddens_per_layer == [] or n_hiddens_per_layer == [0]:\n",
        "            self.n_hiddens_per_layer = []\n",
        "        else:\n",
        "            self.n_hiddens_per_layer = n_hiddens_per_layer\n",
        "\n",
        "        self.hidden_layers = torch.nn.ModuleList()  # necessary for model.to('cuda')\n",
        "\n",
        "        for nh in self.n_hiddens_per_layer:\n",
        "            self.hidden_layers.append( torch.nn.Sequential(\n",
        "                torch.nn.Linear(n_inputs, nh),\n",
        "                torch.nn.Tanh() if act_func == 'tanh' else torch.nn.ReLU()))\n",
        "\n",
        "            n_inputs = nh\n",
        "\n",
        "        self.output_layer = torch.nn.Linear(n_inputs, n_outputs)\n",
        "\n",
        "        self.Xmeans = None\n",
        "        self.Xstds = None\n",
        "        self.Tmeans = None\n",
        "        self.Tstds = None\n",
        "\n",
        "        self.error_trace = []\n",
        "\n",
        "    def forward(self, X):\n",
        "        Y = X\n",
        "        for hidden_layer in self.hidden_layers:\n",
        "            Y = hidden_layer(Y)\n",
        "        Y = self.output_layer(Y)\n",
        "        return Y\n",
        "\n",
        "    def train(self, X, T, n_epochs, learning_rate, verbose=True, gpu=False):\n",
        "\n",
        "        # Set data matrices to torch.tensors if not already.\n",
        "        if not isinstance(X, torch.Tensor):\n",
        "            X = torch.from_numpy(X).float()\n",
        "        if not isinstance(T, torch.Tensor):\n",
        "            T = torch.from_numpy(T).float()\n",
        "\n",
        "        # Calculate standardization parameters if not already calculated\n",
        "        if self.Xmeans is None:\n",
        "            self.Xmeans = X.mean(0)\n",
        "            self.Xstds = X.std(0)\n",
        "            self.Xstds[self.Xstds == 0] = 1\n",
        "            self.Tmeans = T.mean(0)\n",
        "            self.Tstds = T.std(0)\n",
        "            self.Tstds[self.Tstds == 0] = 1\n",
        "\n",
        "        # Standardize inputs and targets\n",
        "        X = (X - self.Xmeans) / self.Xstds\n",
        "        T = (T - self.Tmeans) / self.Tstds\n",
        "\n",
        "        if gpu:\n",
        "          X = X.to('cuda')\n",
        "          T = T.to('cuda')\n",
        "          self.to('cuda')\n",
        "\n",
        "        # Set optimizer to Adam and loss functions to MSELoss\n",
        "        optimizer = torch.optim.Adam(self.parameters(), lr=learning_rate)\n",
        "        mse_func = torch.nn.MSELoss()\n",
        "\n",
        "        for epoch in range(n_epochs):\n",
        "            Y = self.forward(X)\n",
        "            mse = mse_func(T, Y)\n",
        "            mse.backward()\n",
        "\n",
        "            optimizer.step()\n",
        "            optimizer.zero_grad()\n",
        "\n",
        "            error = (np.sqrt(mse.cpu().detach()) * self.Tstds).item()\n",
        "            self.error_trace.append(error)\n",
        "\n",
        "            if verbose and ((epoch+1 == n_epochs) or (((epoch+1) % (n_epochs // 10)) == 0)):\n",
        "                print(f'Epoch {epoch+1}: RMSE: {error:.3f}')\n",
        "\n",
        "    def use(self, X, gpu=False):\n",
        "       # Set input matrix to torch.tensors if not already.\n",
        "        if not isinstance(X, torch.Tensor):\n",
        "            X = torch.from_numpy(X).float()\n",
        "\n",
        "        # Standardize X\n",
        "        X_std = (X - self.Xmeans) / self.Xstds\n",
        "\n",
        "        if gpu:\n",
        "          X_std = X_std.to('cuda')\n",
        "\n",
        "        # Do forward pass and unstandardize resulting output. Assign to variable Y.\n",
        "        Y = self.forward(X_std)\n",
        "        Y = Y.cpu().detach() * self.Tstds + self.Tmeans\n",
        "\n",
        "        # Return output Y after detaching from computation graph and converting to numpy\n",
        "        return Y.detach().numpy()\n"
      ]
    },
    {
      "cell_type": "markdown",
      "metadata": {
        "id": "5Thzzmapkkoi"
      },
      "source": [
        "## Example"
      ]
    },
    {
      "cell_type": "code",
      "execution_count": 3,
      "metadata": {
        "colab": {
          "base_uri": "https://localhost:8080/"
        },
        "id": "yiCVM9_Lkkoj",
        "outputId": "722428a1-28c3-406a-f712-a34873d66089"
      },
      "outputs": [
        {
          "name": "stdout",
          "output_type": "stream",
          "text": [
            "Epoch 5: RMSE: 11.155\n",
            "Epoch 10: RMSE: 6.062\n",
            "Epoch 15: RMSE: 5.169\n",
            "Epoch 20: RMSE: 2.103\n",
            "Epoch 25: RMSE: 2.317\n",
            "Epoch 30: RMSE: 2.636\n",
            "Epoch 35: RMSE: 1.463\n",
            "Epoch 40: RMSE: 1.137\n",
            "Epoch 45: RMSE: 1.170\n",
            "Epoch 50: RMSE: 0.922\n",
            "RMSE 0.867\n"
          ]
        }
      ],
      "source": [
        "torch.manual_seed(42)\n",
        "np.random.seed(42)\n",
        "\n",
        "n_samples = 10000\n",
        "X = np.linspace(0, 10, n_samples).reshape((-1, 1))\n",
        "T = X ** 2\n",
        "\n",
        "n_samples, n_inputs = X.shape\n",
        "n_outputs = T.shape[1]\n",
        "\n",
        "n_hiddens = [100, 100]\n",
        "net = NNet(n_inputs, n_hiddens, n_outputs, act_func='relu')\n",
        "net.train(X, T, 50, 0.01)\n",
        "Y = net.use(X)\n",
        "\n",
        "def rmse(Y, T):\n",
        "    return np.sqrt(np.mean((T - Y)**2))\n",
        "\n",
        "print(f'RMSE {rmse(Y, T):.3f}')"
      ]
    },
    {
      "cell_type": "code",
      "execution_count": 4,
      "metadata": {
        "colab": {
          "base_uri": "https://localhost:8080/",
          "height": 807
        },
        "id": "heewUA1Dkkok",
        "outputId": "3a114ce8-9682-405f-cbb2-8e3306db40c1"
      },
      "outputs": [
        {
          "data": {
            "image/png": "[encoded data removed]",
            "text/plain": [
              "<Figure size 1500x800 with 2 Axes>"
            ]
          },
          "metadata": {},
          "output_type": "display_data"
        }
      ],
      "source": [
        "plt.figure(figsize=(15, 8))\n",
        "\n",
        "plt.subplot(1, 2, 1)\n",
        "plt.plot(T, label='T')\n",
        "plt.plot(Y, label='Y')\n",
        "plt.legend()\n",
        "\n",
        "plt.subplot(1, 2, 2)\n",
        "plt.plot(T, Y, '.')\n",
        "a = max(np.min(T), np.min(Y))\n",
        "b = min(np.max(T), np.max(Y))\n",
        "plt.plot([a, b], [a, b], lw=10, alpha=0.5)\n",
        "plt.xlabel('T')\n",
        "plt.ylabel('Y')\n",
        "plt.tight_layout()"
      ]
    },
    {
      "cell_type": "markdown",
      "metadata": {
        "id": "gm5uToyzkkol"
      },
      "source": [
        "# Function to generate all train, validate, and test partitions given number of folds"
      ]
    },
    {
      "cell_type": "markdown",
      "metadata": {
        "id": "Y3UztYdUkkol"
      },
      "source": [
        "## Implementation"
      ]
    },
    {
      "cell_type": "markdown",
      "metadata": {
        "id": "EW14B5aykkom"
      },
      "source": [
        "This is complete code for `generate_k_fold_cross_validation_sets`."
      ]
    },
    {
      "cell_type": "code",
      "execution_count": 5,
      "metadata": {
        "id": "NvL1Al-Dkkom"
      },
      "outputs": [],
      "source": [
        "def generate_k_fold_cross_validation_sets(X, T, n_folds, shuffle=True):\n",
        "\n",
        "    if shuffle:\n",
        "        # Randomly order X and T\n",
        "        randorder = np.arange(X.shape[0])\n",
        "        np.random.shuffle(randorder)\n",
        "        X = X[randorder, :]\n",
        "        T = T[randorder, :]\n",
        "\n",
        "    # Partition X and T into folds\n",
        "    n_samples = X.shape[0]\n",
        "    n_per_fold = round(n_samples / n_folds)\n",
        "    n_last_fold = n_samples - n_per_fold * (n_folds - 1)\n",
        "\n",
        "    folds = []\n",
        "    start = 0\n",
        "    for foldi in range(n_folds-1):\n",
        "        folds.append( (X[start:start + n_per_fold, :], T[start:start + n_per_fold, :]) )\n",
        "        start += n_per_fold\n",
        "    folds.append( (X[start:, :], T[start:, :]) )\n",
        "\n",
        "    # Yield k(k-1) assignments of Xtrain, Train, Xvalidate, Tvalidate, Xtest, Ttest\n",
        "\n",
        "    for validation_i in range(n_folds):\n",
        "        for test_i in range(n_folds):\n",
        "            if test_i == validation_i:\n",
        "                continue\n",
        "\n",
        "            train_i = np.setdiff1d(range(n_folds), [validation_i, test_i])\n",
        "\n",
        "            Xvalidate, Tvalidate = folds[validation_i]\n",
        "            Xtest, Ttest = folds[test_i]\n",
        "            if len(train_i) > 1:\n",
        "                Xtrain = np.vstack([folds[i][0] for i in train_i])\n",
        "                Ttrain = np.vstack([folds[i][1] for i in train_i])\n",
        "            else:\n",
        "                Xtrain, Ttrain = folds[train_i[0]]\n",
        "\n",
        "            yield Xtrain, Ttrain, Xvalidate, Tvalidate, Xtest, Ttest"
      ]
    },
    {
      "cell_type": "markdown",
      "metadata": {
        "id": "D9q1g66Wkkom"
      },
      "source": [
        "## Example"
      ]
    },
    {
      "cell_type": "code",
      "execution_count": 6,
      "metadata": {
        "colab": {
          "base_uri": "https://localhost:8080/"
        },
        "id": "lpQAr9ZNkkom",
        "outputId": "ac60128c-f867-4d4c-b8a5-ca4623b3c1ed"
      },
      "outputs": [
        {
          "data": {
            "text/plain": [
              "(array([[ 0,  1],\n",
              "        [ 2,  3],\n",
              "        [ 4,  5],\n",
              "        [ 6,  7],\n",
              "        [ 8,  9],\n",
              "        [10, 11]]),\n",
              " array([[ 0],\n",
              "        [10],\n",
              "        [20],\n",
              "        [30],\n",
              "        [40],\n",
              "        [50]]))"
            ]
          },
          "execution_count": 6,
          "metadata": {},
          "output_type": "execute_result"
        }
      ],
      "source": [
        "X = np.arange(2 * 6).reshape((6, 2))\n",
        "T = np.arange(6).reshape((6, 1)) * 10\n",
        "X, T"
      ]
    },
    {
      "cell_type": "code",
      "execution_count": 7,
      "metadata": {
        "colab": {
          "base_uri": "https://localhost:8080/"
        },
        "id": "hK_K2yx9kkon",
        "outputId": "e78f0b3d-f1b7-4db6-c844-3ba97eb52cfe"
      },
      "outputs": [
        {
          "name": "stdout",
          "output_type": "stream",
          "text": [
            "\n",
            "Xtrain\n",
            " [[8 9]\n",
            " [6 7]]\n",
            "Ttrain\n",
            " [[40]\n",
            " [30]]\n",
            "Xvalidate\n",
            " [[0 1]\n",
            " [2 3]]\n",
            "Tvalidate\n",
            " [[ 0]\n",
            " [10]]\n",
            "Xtest\n",
            " [[10 11]\n",
            " [ 4  5]]\n",
            "Ttest\n",
            " [[50]\n",
            " [20]]\n",
            "\n",
            "Xtrain\n",
            " [[10 11]\n",
            " [ 4  5]]\n",
            "Ttrain\n",
            " [[50]\n",
            " [20]]\n",
            "Xvalidate\n",
            " [[0 1]\n",
            " [2 3]]\n",
            "Tvalidate\n",
            " [[ 0]\n",
            " [10]]\n",
            "Xtest\n",
            " [[8 9]\n",
            " [6 7]]\n",
            "Ttest\n",
            " [[40]\n",
            " [30]]\n",
            "\n",
            "Xtrain\n",
            " [[8 9]\n",
            " [6 7]]\n",
            "Ttrain\n",
            " [[40]\n",
            " [30]]\n",
            "Xvalidate\n",
            " [[10 11]\n",
            " [ 4  5]]\n",
            "Tvalidate\n",
            " [[50]\n",
            " [20]]\n",
            "Xtest\n",
            " [[0 1]\n",
            " [2 3]]\n",
            "Ttest\n",
            " [[ 0]\n",
            " [10]]\n",
            "\n",
            "Xtrain\n",
            " [[0 1]\n",
            " [2 3]]\n",
            "Ttrain\n",
            " [[ 0]\n",
            " [10]]\n",
            "Xvalidate\n",
            " [[10 11]\n",
            " [ 4  5]]\n",
            "Tvalidate\n",
            " [[50]\n",
            " [20]]\n",
            "Xtest\n",
            " [[8 9]\n",
            " [6 7]]\n",
            "Ttest\n",
            " [[40]\n",
            " [30]]\n",
            "\n",
            "Xtrain\n",
            " [[10 11]\n",
            " [ 4  5]]\n",
            "Ttrain\n",
            " [[50]\n",
            " [20]]\n",
            "Xvalidate\n",
            " [[8 9]\n",
            " [6 7]]\n",
            "Tvalidate\n",
            " [[40]\n",
            " [30]]\n",
            "Xtest\n",
            " [[0 1]\n",
            " [2 3]]\n",
            "Ttest\n",
            " [[ 0]\n",
            " [10]]\n",
            "\n",
            "Xtrain\n",
            " [[0 1]\n",
            " [2 3]]\n",
            "Ttrain\n",
            " [[ 0]\n",
            " [10]]\n",
            "Xvalidate\n",
            " [[8 9]\n",
            " [6 7]]\n",
            "Tvalidate\n",
            " [[40]\n",
            " [30]]\n",
            "Xtest\n",
            " [[10 11]\n",
            " [ 4  5]]\n",
            "Ttest\n",
            " [[50]\n",
            " [20]]\n"
          ]
        }
      ],
      "source": [
        "np.random.seed(42)\n",
        "\n",
        "for Xtrain, Ttrain, Xvalidate, Tvalidate, Xtest, Ttest in generate_k_fold_cross_validation_sets(X, T, 3):\n",
        "    print()\n",
        "    print('Xtrain\\n', Xtrain)\n",
        "    print('Ttrain\\n', Ttrain)\n",
        "    print('Xvalidate\\n', Xvalidate)\n",
        "    print('Tvalidate\\n', Tvalidate)\n",
        "    print('Xtest\\n', Xtest)\n",
        "    print('Ttest\\n', Ttest)\n"
      ]
    },
    {
      "cell_type": "markdown",
      "metadata": {
        "id": "sCHBQL2jkkon"
      },
      "source": [
        "# Function to train NNets and average RMSE over all ways of partitioning"
      ]
    },
    {
      "cell_type": "markdown",
      "metadata": {
        "id": "gdc_cbSXkkon"
      },
      "source": [
        "## Implementation"
      ]
    },
    {
      "cell_type": "markdown",
      "metadata": {
        "id": "1UmU5p8Jkkoo"
      },
      "source": [
        "Define the following function that trains neural networks of different architectures, given by `list_of_n_hiddens`, for one value each of `n_epochs`, `learning_rate`, and `act_fun`.  For each network, train on all k-fold cross-validation training sets, and calculate the RMSEs for the training, validation and test. Calculate the mean of training, validation and test RMSEs over the k-fold partitions, so that you have one training, one validation, and one test set RMSE for each network.  Append a list of the architecture and these three mean RMSEs to a list of results and return the list as a pandas DataFrame described below when done.\n",
        "\n",
        "To iterate over all k-fold partitions, use a for loop like the example in the previous code cell. Call `generate_k_fold_cross_validation_sets` with `shuffle=True`."
      ]
    },
    {
      "cell_type": "code",
      "execution_count": 8,
      "metadata": {
        "id": "QZjh2kc4kkoo"
      },
      "outputs": [],
      "source": [
        "def rmse(A, B):\n",
        "    return np.sqrt(np.mean((A - B)**2))\n",
        "\n",
        "def run_k_fold_cross_validation(X, T, n_folds, list_of_n_hiddens, n_epochs, learning_rate, act_func, gpu=False):\n",
        "    stats = []\n",
        "\n",
        "    for nh in list_of_n_hiddens:\n",
        "        train_errors = []\n",
        "        val_errors = []\n",
        "        test_errors = []\n",
        "\n",
        "        for Xtrain, Ttrain, Xvalidate, Tvalidate, Xtest, Ttest in generate_k_fold_cross_validation_sets(X, T, n_folds, shuffle=True):\n",
        "            nnet = NNet(Xtrain.shape[1], nh, Ttrain.shape[1], act_func)\n",
        "            nnet.train(Xtrain, Ttrain, n_epochs, learning_rate, verbose=False, gpu=gpu)\n",
        "            Ytrain = nnet.use(Xtrain, gpu=gpu)\n",
        "            Yvalidate = nnet.use(Xvalidate, gpu=gpu)\n",
        "            Ytest = nnet.use(Xtest, gpu=gpu)\n",
        "\n",
        "            train_errors.append(rmse(Ttrain, Ytrain))\n",
        "            val_errors.append(rmse(Tvalidate, Yvalidate))\n",
        "            test_errors.append(rmse(Ttest, Ytest))\n",
        "\n",
        "        stats.append([nh, np.mean(train_errors),  np.mean(val_errors), np.mean(test_errors)])\n",
        "\n",
        "    df = pandas.DataFrame(stats, columns=['Arch', 'Train RMSE', 'Validate RMSE', 'Test RMSE'])\n",
        "    return df"
      ]
    },
    {
      "cell_type": "markdown",
      "metadata": {
        "id": "WvV9RZ12kkoo"
      },
      "source": [
        "## Apply to Airfoil Data"
      ]
    },
    {
      "cell_type": "markdown",
      "metadata": {
        "id": "Mk3cgjbQkkoo"
      },
      "source": [
        "Download `airfoil_self_noise.dat` from [Airfoil Data Website](https://archive.ics.uci.edu/ml/datasets/Airfoil+Self-Noise) and read it as shown below."
      ]
    },
    {
      "cell_type": "code",
      "execution_count": 9,
      "metadata": {
        "id": "q9UWlE4kkkoo"
      },
      "outputs": [],
      "source": [
        "airfoil = pandas.read_csv('airfoil_self_noise.dat', delimiter='\\t',\n",
        "                          names=('frequency', 'angle', 'chord',\n",
        "                                 'velocity', 'thickness', 'pressure')).values"
      ]
    },
    {
      "cell_type": "markdown",
      "metadata": {
        "id": "yl-XWeV2kkop"
      },
      "source": [
        "Apply your `run_k_fold_cross_validation` to the airfoil data, with `X` being the first five columns of the data and `T` being the last column, the 'pressure'.\n",
        "\n",
        "Here is an example run.  You must try more neural network architectures.  Keep the following points in mind when you choose parameter values to try:\n",
        "* Larger networks will require more epochs of training to converge.\n",
        "* Large learning rates could limit convergence, but small learning rates may take many more epochs than you have patience for.\n",
        "* Display results as a `pandas` `DataFrame` and in plots.  <font color=red>Your tabular results and plots must be described sufficiently.  If you struggle with judging this yourself, you can consider 10 sentences or more of discussion to be sufficient, but 9 perceptive sentences are better than 10 or more sentences of non-analytical fluff.</font>\n",
        "* Name the columns of your `DataFrame` result to be `columns=('Arch', 'Train RMSE', 'Validate RMSE', 'Test RMSE'))`"
      ]
    },
    {
      "cell_type": "code",
      "execution_count": 10,
      "metadata": {
        "colab": {
          "base_uri": "https://localhost:8080/"
        },
        "id": "gujZ0nDpkkop",
        "outputId": "04e0fa9d-f362-41c6-ccd5-9bada65f0ee4"
      },
      "outputs": [
        {
          "data": {
            "text/plain": [
              "((1503, 5), (1503, 1))"
            ]
          },
          "execution_count": 10,
          "metadata": {},
          "output_type": "execute_result"
        }
      ],
      "source": [
        "X = airfoil[:, 0:5]\n",
        "T = airfoil[:, 5].reshape(-1,1)\n",
        "X.shape, T.shape"
      ]
    },
    {
      "cell_type": "code",
      "execution_count": 11,
      "metadata": {
        "colab": {
          "base_uri": "https://localhost:8080/",
          "height": 663
        },
        "id": "kj2ZLybRkkop",
        "outputId": "48d32afa-ce73-4cbb-f6eb-6c9eced3e5d0"
      },
      "outputs": [
        {
          "name": "stdout",
          "output_type": "stream",
          "text": [
            "Took 0.31 hours\n"
          ]
        },
        {
          "data": {
            "application/vnd.google.colaboratory.intrinsic+json": {
              "summary": "{\n  \"name\": \"results\",\n  \"rows\": 19,\n  \"fields\": [\n    {\n      \"column\": \"Arch\",\n      \"properties\": {\n        \"dtype\": \"object\",\n        \"semantic_type\": \"\",\n        \"description\": \"\"\n      }\n    },\n    {\n      \"column\": \"Train RMSE\",\n      \"properties\": {\n        \"dtype\": \"number\",\n        \"std\": 1.297189361676407,\n        \"min\": 1.0672002900782867,\n        \"max\": 4.790511489891502,\n        \"num_unique_values\": 19,\n        \"samples\": [\n          4.790511489891502,\n          2.649651535950298,\n          1.5912695855374968\n        ],\n        \"semantic_type\": \"\",\n        \"description\": \"\"\n      }\n    },\n    {\n      \"column\": \"Validate RMSE\",\n      \"properties\": {\n        \"dtype\": \"number\",\n        \"std\": 1.0859595600609888,\n        \"min\": 1.6452323959730013,\n        \"max\": 4.839217707285521,\n        \"num_unique_values\": 19,\n        \"samples\": [\n          4.839217707285521,\n          2.8969335601894475,\n          2.223176655530719\n        ],\n        \"semantic_type\": \"\",\n        \"description\": \"\"\n      }\n    },\n    {\n      \"column\": \"Test RMSE\",\n      \"properties\": {\n        \"dtype\": \"number\",\n        \"std\": 1.0825554222127816,\n        \"min\": 1.6357032232433284,\n        \"max\": 4.840742475017608,\n        \"num_unique_values\": 19,\n        \"samples\": [\n          4.840742475017608,\n          2.887101493684968,\n          2.221485956195418\n        ],\n        \"semantic_type\": \"\",\n        \"description\": \"\"\n      }\n    }\n  ]\n}",
              "type": "dataframe",
              "variable_name": "results"
            },
            "text/html": [
              "\n",
              "  <div id=\"df-6d2904de-c759-4d80-a318-ef58efa0a1eb\" class=\"colab-df-container\">\n",
              "    <div>\n",
              "<style scoped>\n",
              "    .dataframe tbody tr th:only-of-type {\n",
              "        vertical-align: middle;\n",
              "    }\n",
              "\n",
              "    .dataframe tbody tr th {\n",
              "        vertical-align: top;\n",
              "    }\n",
              "\n",
              "    .dataframe thead th {\n",
              "        text-align: right;\n",
              "    }\n",
              "</style>\n",
              "<table border=\"1\" class=\"dataframe\">\n",
              "  <thead>\n",
              "    <tr style=\"text-align: right;\">\n",
              "      <th></th>\n",
              "      <th>Arch</th>\n",
              "      <th>Train RMSE</th>\n",
              "      <th>Validate RMSE</th>\n",
              "      <th>Test RMSE</th>\n",
              "    </tr>\n",
              "  </thead>\n",
              "  <tbody>\n",
              "    <tr>\n",
              "      <th>0</th>\n",
              "      <td>[]</td>\n",
              "      <td>4.790511</td>\n",
              "      <td>4.839218</td>\n",
              "      <td>4.840742</td>\n",
              "    </tr>\n",
              "    <tr>\n",
              "      <th>1</th>\n",
              "      <td>[1]</td>\n",
              "      <td>4.519531</td>\n",
              "      <td>4.550374</td>\n",
              "      <td>4.544003</td>\n",
              "    </tr>\n",
              "    <tr>\n",
              "      <th>2</th>\n",
              "      <td>[5]</td>\n",
              "      <td>3.945289</td>\n",
              "      <td>4.075281</td>\n",
              "      <td>4.056473</td>\n",
              "    </tr>\n",
              "    <tr>\n",
              "      <th>3</th>\n",
              "      <td>[50]</td>\n",
              "      <td>2.832423</td>\n",
              "      <td>3.057888</td>\n",
              "      <td>3.060491</td>\n",
              "    </tr>\n",
              "    <tr>\n",
              "      <th>4</th>\n",
              "      <td>[200]</td>\n",
              "      <td>2.570559</td>\n",
              "      <td>2.858220</td>\n",
              "      <td>2.842853</td>\n",
              "    </tr>\n",
              "    <tr>\n",
              "      <th>5</th>\n",
              "      <td>[500]</td>\n",
              "      <td>2.649652</td>\n",
              "      <td>2.896934</td>\n",
              "      <td>2.887101</td>\n",
              "    </tr>\n",
              "    <tr>\n",
              "      <th>6</th>\n",
              "      <td>[1000]</td>\n",
              "      <td>2.870351</td>\n",
              "      <td>3.087251</td>\n",
              "      <td>3.092188</td>\n",
              "    </tr>\n",
              "    <tr>\n",
              "      <th>7</th>\n",
              "      <td>[1, 1]</td>\n",
              "      <td>4.587918</td>\n",
              "      <td>4.645943</td>\n",
              "      <td>4.621720</td>\n",
              "    </tr>\n",
              "    <tr>\n",
              "      <th>8</th>\n",
              "      <td>[5, 5]</td>\n",
              "      <td>3.470295</td>\n",
              "      <td>3.580947</td>\n",
              "      <td>3.591601</td>\n",
              "    </tr>\n",
              "    <tr>\n",
              "      <th>9</th>\n",
              "      <td>[50, 50]</td>\n",
              "      <td>1.427304</td>\n",
              "      <td>1.846897</td>\n",
              "      <td>1.861228</td>\n",
              "    </tr>\n",
              "    <tr>\n",
              "      <th>10</th>\n",
              "      <td>[200, 200]</td>\n",
              "      <td>1.270189</td>\n",
              "      <td>1.795839</td>\n",
              "      <td>1.792486</td>\n",
              "    </tr>\n",
              "    <tr>\n",
              "      <th>11</th>\n",
              "      <td>[500, 500]</td>\n",
              "      <td>1.591270</td>\n",
              "      <td>2.223177</td>\n",
              "      <td>2.221486</td>\n",
              "    </tr>\n",
              "    <tr>\n",
              "      <th>12</th>\n",
              "      <td>[1000, 1000]</td>\n",
              "      <td>1.538843</td>\n",
              "      <td>2.601602</td>\n",
              "      <td>2.635601</td>\n",
              "    </tr>\n",
              "    <tr>\n",
              "      <th>13</th>\n",
              "      <td>[50, 200]</td>\n",
              "      <td>1.721114</td>\n",
              "      <td>2.046900</td>\n",
              "      <td>2.053881</td>\n",
              "    </tr>\n",
              "    <tr>\n",
              "      <th>14</th>\n",
              "      <td>[1, 1, 1]</td>\n",
              "      <td>4.508070</td>\n",
              "      <td>4.555378</td>\n",
              "      <td>4.560027</td>\n",
              "    </tr>\n",
              "    <tr>\n",
              "      <th>15</th>\n",
              "      <td>[200, 200, 200]</td>\n",
              "      <td>1.067200</td>\n",
              "      <td>1.645232</td>\n",
              "      <td>1.635703</td>\n",
              "    </tr>\n",
              "    <tr>\n",
              "      <th>16</th>\n",
              "      <td>[500, 500, 500]</td>\n",
              "      <td>2.712697</td>\n",
              "      <td>3.244544</td>\n",
              "      <td>3.270175</td>\n",
              "    </tr>\n",
              "    <tr>\n",
              "      <th>17</th>\n",
              "      <td>[1, 50, 200]</td>\n",
              "      <td>4.419519</td>\n",
              "      <td>4.491480</td>\n",
              "      <td>4.492434</td>\n",
              "    </tr>\n",
              "    <tr>\n",
              "      <th>18</th>\n",
              "      <td>[200, 200, 200, 200]</td>\n",
              "      <td>1.623452</td>\n",
              "      <td>2.139435</td>\n",
              "      <td>2.143966</td>\n",
              "    </tr>\n",
              "  </tbody>\n",
              "</table>\n",
              "</div>\n",
              "    <div class=\"colab-df-buttons\">\n",
              "\n",
              "  <div class=\"colab-df-container\">\n",
              "    <button class=\"colab-df-convert\" onclick=\"convertToInteractive('df-6d2904de-c759-4d80-a318-ef58efa0a1eb')\"\n",
              "            title=\"Convert this dataframe to an interactive table.\"\n",
              "            style=\"display:none;\">\n",
              "\n",
              "  <svg xmlns=\"http://www.w3.org/2000/svg\" height=\"24px\" viewBox=\"0 -960 960 960\">\n",
              "    <path d=\"M120-120v-720h720v720H120Zm60-500h600v-160H180v160Zm220 220h160v-160H400v160Zm0 220h160v-160H400v160ZM180-400h160v-160H180v160Zm440 0h160v-160H620v160ZM180-180h160v-160H180v160Zm440 0h160v-160H620v160Z\"/>\n",
              "  </svg>\n",
              "    </button>\n",
              "\n",
              "  <style>\n",
              "    .colab-df-container {\n",
              "      display:flex;\n",
              "      gap: 12px;\n",
              "    }\n",
              "\n",
              "    .colab-df-convert {\n",
              "      background-color: #E8F0FE;\n",
              "      border: none;\n",
              "      border-radius: 50%;\n",
              "      cursor: pointer;\n",
              "      display: none;\n",
              "      fill: #1967D2;\n",
              "      height: 32px;\n",
              "      padding: 0 0 0 0;\n",
              "      width: 32px;\n",
              "    }\n",
              "\n",
              "    .colab-df-convert:hover {\n",
              "      background-color: #E2EBFA;\n",
              "      box-shadow: 0px 1px 2px rgba(60, 64, 67, 0.3), 0px 1px 3px 1px rgba(60, 64, 67, 0.15);\n",
              "      fill: #174EA6;\n",
              "    }\n",
              "\n",
              "    .colab-df-buttons div {\n",
              "      margin-bottom: 4px;\n",
              "    }\n",
              "\n",
              "    [theme=dark] .colab-df-convert {\n",
              "      background-color: #3B4455;\n",
              "      fill: #D2E3FC;\n",
              "    }\n",
              "\n",
              "    [theme=dark] .colab-df-convert:hover {\n",
              "      background-color: #434B5C;\n",
              "      box-shadow: 0px 1px 3px 1px rgba(0, 0, 0, 0.15);\n",
              "      filter: drop-shadow(0px 1px 2px rgba(0, 0, 0, 0.3));\n",
              "      fill: #FFFFFF;\n",
              "    }\n",
              "  </style>\n",
              "\n",
              "    <script>\n",
              "      const buttonEl =\n",
              "        document.querySelector('#df-6d2904de-c759-4d80-a318-ef58efa0a1eb button.colab-df-convert');\n",
              "      buttonEl.style.display =\n",
              "        google.colab.kernel.accessAllowed ? 'block' : 'none';\n",
              "\n",
              "      async function convertToInteractive(key) {\n",
              "        const element = document.querySelector('#df-6d2904de-c759-4d80-a318-ef58efa0a1eb');\n",
              "        const dataTable =\n",
              "          await google.colab.kernel.invokeFunction('convertToInteractive',\n",
              "                                                    [key], {});\n",
              "        if (!dataTable) return;\n",
              "\n",
              "        const docLinkHtml = 'Like what you see? Visit the ' +\n",
              "          '<a target=\"_blank\" href=https://colab.research.google.com/notebooks/data_table.ipynb>data table notebook</a>'\n",
              "          + ' to learn more about interactive tables.';\n",
              "        element.innerHTML = '';\n",
              "        dataTable['output_type'] = 'display_data';\n",
              "        await google.colab.output.renderOutput(dataTable, element);\n",
              "        const docLink = document.createElement('div');\n",
              "        docLink.innerHTML = docLinkHtml;\n",
              "        element.appendChild(docLink);\n",
              "      }\n",
              "    </script>\n",
              "  </div>\n",
              "\n",
              "\n",
              "<div id=\"df-f6c18d4a-fdeb-41f6-83b9-fda3b101dce8\">\n",
              "  <button class=\"colab-df-quickchart\" onclick=\"quickchart('df-f6c18d4a-fdeb-41f6-83b9-fda3b101dce8')\"\n",
              "            title=\"Suggest charts\"\n",
              "            style=\"display:none;\">\n",
              "\n",
              "<svg xmlns=\"http://www.w3.org/2000/svg\" height=\"24px\"viewBox=\"0 0 24 24\"\n",
              "     width=\"24px\">\n",
              "    <g>\n",
              "        <path d=\"M19 3H5c-1.1 0-2 .9-2 2v14c0 1.1.9 2 2 2h14c1.1 0 2-.9 2-2V5c0-1.1-.9-2-2-2zM9 17H7v-7h2v7zm4 0h-2V7h2v10zm4 0h-2v-4h2v4z\"/>\n",
              "    </g>\n",
              "</svg>\n",
              "  </button>\n",
              "\n",
              "<style>\n",
              "  .colab-df-quickchart {\n",
              "      --bg-color: #E8F0FE;\n",
              "      --fill-color: #1967D2;\n",
              "      --hover-bg-color: #E2EBFA;\n",
              "      --hover-fill-color: #174EA6;\n",
              "      --disabled-fill-color: #AAA;\n",
              "      --disabled-bg-color: #DDD;\n",
              "  }\n",
              "\n",
              "  [theme=dark] .colab-df-quickchart {\n",
              "      --bg-color: #3B4455;\n",
              "      --fill-color: #D2E3FC;\n",
              "      --hover-bg-color: #434B5C;\n",
              "      --hover-fill-color: #FFFFFF;\n",
              "      --disabled-bg-color: #3B4455;\n",
              "      --disabled-fill-color: #666;\n",
              "  }\n",
              "\n",
              "  .colab-df-quickchart {\n",
              "    background-color: var(--bg-color);\n",
              "    border: none;\n",
              "    border-radius: 50%;\n",
              "    cursor: pointer;\n",
              "    display: none;\n",
              "    fill: var(--fill-color);\n",
              "    height: 32px;\n",
              "    padding: 0;\n",
              "    width: 32px;\n",
              "  }\n",
              "\n",
              "  .colab-df-quickchart:hover {\n",
              "    background-color: var(--hover-bg-color);\n",
              "    box-shadow: 0 1px 2px rgba(60, 64, 67, 0.3), 0 1px 3px 1px rgba(60, 64, 67, 0.15);\n",
              "    fill: var(--button-hover-fill-color);\n",
              "  }\n",
              "\n",
              "  .colab-df-quickchart-complete:disabled,\n",
              "  .colab-df-quickchart-complete:disabled:hover {\n",
              "    background-color: var(--disabled-bg-color);\n",
              "    fill: var(--disabled-fill-color);\n",
              "    box-shadow: none;\n",
              "  }\n",
              "\n",
              "  .colab-df-spinner {\n",
              "    border: 2px solid var(--fill-color);\n",
              "    border-color: transparent;\n",
              "    border-bottom-color: var(--fill-color);\n",
              "    animation:\n",
              "      spin 1s steps(1) infinite;\n",
              "  }\n",
              "\n",
              "  @keyframes spin {\n",
              "    0% {\n",
              "      border-color: transparent;\n",
              "      border-bottom-color: var(--fill-color);\n",
              "      border-left-color: var(--fill-color);\n",
              "    }\n",
              "    20% {\n",
              "      border-color: transparent;\n",
              "      border-left-color: var(--fill-color);\n",
              "      border-top-color: var(--fill-color);\n",
              "    }\n",
              "    30% {\n",
              "      border-color: transparent;\n",
              "      border-left-color: var(--fill-color);\n",
              "      border-top-color: var(--fill-color);\n",
              "      border-right-color: var(--fill-color);\n",
              "    }\n",
              "    40% {\n",
              "      border-color: transparent;\n",
              "      border-right-color: var(--fill-color);\n",
              "      border-top-color: var(--fill-color);\n",
              "    }\n",
              "    60% {\n",
              "      border-color: transparent;\n",
              "      border-right-color: var(--fill-color);\n",
              "    }\n",
              "    80% {\n",
              "      border-color: transparent;\n",
              "      border-right-color: var(--fill-color);\n",
              "      border-bottom-color: var(--fill-color);\n",
              "    }\n",
              "    90% {\n",
              "      border-color: transparent;\n",
              "      border-bottom-color: var(--fill-color);\n",
              "    }\n",
              "  }\n",
              "</style>\n",
              "\n",
              "  <script>\n",
              "    async function quickchart(key) {\n",
              "      const quickchartButtonEl =\n",
              "        document.querySelector('#' + key + ' button');\n",
              "      quickchartButtonEl.disabled = true;  // To prevent multiple clicks.\n",
              "      quickchartButtonEl.classList.add('colab-df-spinner');\n",
              "      try {\n",
              "        const charts = await google.colab.kernel.invokeFunction(\n",
              "            'suggestCharts', [key], {});\n",
              "      } catch (error) {\n",
              "        console.error('Error during call to suggestCharts:', error);\n",
              "      }\n",
              "      quickchartButtonEl.classList.remove('colab-df-spinner');\n",
              "      quickchartButtonEl.classList.add('colab-df-quickchart-complete');\n",
              "    }\n",
              "    (() => {\n",
              "      let quickchartButtonEl =\n",
              "        document.querySelector('#df-f6c18d4a-fdeb-41f6-83b9-fda3b101dce8 button');\n",
              "      quickchartButtonEl.style.display =\n",
              "        google.colab.kernel.accessAllowed ? 'block' : 'none';\n",
              "    })();\n",
              "  </script>\n",
              "</div>\n",
              "\n",
              "  <div id=\"id_016e6e5f-2478-4061-83a6-521f3252971d\">\n",
              "    <style>\n",
              "      .colab-df-generate {\n",
              "        background-color: #E8F0FE;\n",
              "        border: none;\n",
              "        border-radius: 50%;\n",
              "        cursor: pointer;\n",
              "        display: none;\n",
              "        fill: #1967D2;\n",
              "        height: 32px;\n",
              "        padding: 0 0 0 0;\n",
              "        width: 32px;\n",
              "      }\n",
              "\n",
              "      .colab-df-generate:hover {\n",
              "        background-color: #E2EBFA;\n",
              "        box-shadow: 0px 1px 2px rgba(60, 64, 67, 0.3), 0px 1px 3px 1px rgba(60, 64, 67, 0.15);\n",
              "        fill: #174EA6;\n",
              "      }\n",
              "\n",
              "      [theme=dark] .colab-df-generate {\n",
              "        background-color: #3B4455;\n",
              "        fill: #D2E3FC;\n",
              "      }\n",
              "\n",
              "      [theme=dark] .colab-df-generate:hover {\n",
              "        background-color: #434B5C;\n",
              "        box-shadow: 0px 1px 3px 1px rgba(0, 0, 0, 0.15);\n",
              "        filter: drop-shadow(0px 1px 2px rgba(0, 0, 0, 0.3));\n",
              "        fill: #FFFFFF;\n",
              "      }\n",
              "    </style>\n",
              "    <button class=\"colab-df-generate\" onclick=\"generateWithVariable('results')\"\n",
              "            title=\"Generate code using this dataframe.\"\n",
              "            style=\"display:none;\">\n",
              "\n",
              "  <svg xmlns=\"http://www.w3.org/2000/svg\" height=\"24px\"viewBox=\"0 0 24 24\"\n",
              "       width=\"24px\">\n",
              "    <path d=\"M7,19H8.4L18.45,9,17,7.55,7,17.6ZM5,21V16.75L18.45,3.32a2,2,0,0,1,2.83,0l1.4,1.43a1.91,1.91,0,0,1,.58,1.4,1.91,1.91,0,0,1-.58,1.4L9.25,21ZM18.45,9,17,7.55Zm-12,3A5.31,5.31,0,0,0,4.9,8.1,5.31,5.31,0,0,0,1,6.5,5.31,5.31,0,0,0,4.9,4.9,5.31,5.31,0,0,0,6.5,1,5.31,5.31,0,0,0,8.1,4.9,5.31,5.31,0,0,0,12,6.5,5.46,5.46,0,0,0,6.5,12Z\"/>\n",
              "  </svg>\n",
              "    </button>\n",
              "    <script>\n",
              "      (() => {\n",
              "      const buttonEl =\n",
              "        document.querySelector('#id_016e6e5f-2478-4061-83a6-521f3252971d button.colab-df-generate');\n",
              "      buttonEl.style.display =\n",
              "        google.colab.kernel.accessAllowed ? 'block' : 'none';\n",
              "\n",
              "      buttonEl.onclick = () => {\n",
              "        google.colab.notebook.generateWithVariable('results');\n",
              "      }\n",
              "      })();\n",
              "    </script>\n",
              "  </div>\n",
              "\n",
              "    </div>\n",
              "  </div>\n"
            ],
            "text/plain": [
              "                    Arch  Train RMSE  Validate RMSE  Test RMSE\n",
              "0                     []    4.790511       4.839218   4.840742\n",
              "1                    [1]    4.519531       4.550374   4.544003\n",
              "2                    [5]    3.945289       4.075281   4.056473\n",
              "3                   [50]    2.832423       3.057888   3.060491\n",
              "4                  [200]    2.570559       2.858220   2.842853\n",
              "5                  [500]    2.649652       2.896934   2.887101\n",
              "6                 [1000]    2.870351       3.087251   3.092188\n",
              "7                 [1, 1]    4.587918       4.645943   4.621720\n",
              "8                 [5, 5]    3.470295       3.580947   3.591601\n",
              "9               [50, 50]    1.427304       1.846897   1.861228\n",
              "10            [200, 200]    1.270189       1.795839   1.792486\n",
              "11            [500, 500]    1.591270       2.223177   2.221486\n",
              "12          [1000, 1000]    1.538843       2.601602   2.635601\n",
              "13             [50, 200]    1.721114       2.046900   2.053881\n",
              "14             [1, 1, 1]    4.508070       4.555378   4.560027\n",
              "15       [200, 200, 200]    1.067200       1.645232   1.635703\n",
              "16       [500, 500, 500]    2.712697       3.244544   3.270175\n",
              "17          [1, 50, 200]    4.419519       4.491480   4.492434\n",
              "18  [200, 200, 200, 200]    1.623452       2.139435   2.143966"
            ]
          },
          "execution_count": 11,
          "metadata": {},
          "output_type": "execute_result"
        }
      ],
      "source": [
        "torch.manual_seed(42)\n",
        "np.random.seed(42)\n",
        "\n",
        "import time\n",
        "start = time.time()\n",
        "\n",
        "results = run_k_fold_cross_validation(X, T, 5,\n",
        "                                      [[], [1], [5], [50], [200], [500], [1000], [1, 1], [5, 5], [50, 50], [200, 200], [500, 500], [1000, 1000], [50, 200], [1, 1, 1], [200, 200, 200], [500, 500, 500], [1, 50, 200], [200, 200, 200, 200]],\n",
        "                                      200, 0.01, 'tanh')\n",
        "\n",
        "elapsed = (time.time() - start) / 60/ 60\n",
        "print(f'Took {elapsed:.2f} hours')\n",
        "results"
      ]
    },
    {
      "cell_type": "markdown",
      "metadata": {
        "id": "coHmojGakkop"
      },
      "source": [
        "Here is a handy function to plot the RMSEs you have in your results table.  You may use this function to plot your results.  Remember to describe what you see."
      ]
    },
    {
      "cell_type": "code",
      "execution_count": 12,
      "metadata": {
        "id": "GjWRpgVVkkop"
      },
      "outputs": [],
      "source": [
        "def plot_results(results):\n",
        "    errors = results.iloc[:, 1:].values\n",
        "    archs = results.iloc[:, 0].values\n",
        "    archs = [str(ar) for ar in archs]\n",
        "\n",
        "    plt.plot(archs, errors, 'o-')\n",
        "    plt.legend(('Train', 'Validate', 'Test'))\n",
        "    plt.ylabel('RMSE')\n",
        "    plt.xticks(range(errors.shape[0]), archs, rotation=45, ha='right')\n",
        "    plt.tight_layout()"
      ]
    },
    {
      "cell_type": "code",
      "execution_count": 13,
      "metadata": {
        "colab": {
          "base_uri": "https://localhost:8080/",
          "height": 487
        },
        "id": "iedPIlt2kkoq",
        "outputId": "1d05af8c-7ecb-4438-d65f-1ec78e247ecb"
      },
      "outputs": [
        {
          "data": {
            "image/png": "[encoded data removed]",
            "text/plain": [
              "<Figure size 640x480 with 1 Axes>"
            ]
          },
          "metadata": {},
          "output_type": "display_data"
        }
      ],
      "source": [
        "plot_results(results)"
      ]
    },
    {
      "cell_type": "markdown",
      "metadata": {
        "id": "_IztySBokkoq"
      },
      "source": [
        "**The dataframe and plot describe 19 different arhitectures, four of the original and 15 additional ones with different number of neurons and layers. For the single layers, you can observe that as the number of neurons increases, the RMSE decreases until 200. After that, the error starts increasing again likely due to overfitting the data. All errors for single layers are higher than the two layer counterparts. This suggests that deeper networks help the model learn more complex patters about the data than a single layer. With the two layers, there is also a similar trend as the rmse decreases until 200 but then starts increasing. With the three layers, it can be observed that [200, 200, 200] produces the lowest error in the graph, suggesting that it is the best architecture for this dataset. As 200 neurons had been performing the best, I also tried 4 layers of 200, but the error was higher than that of 3 layers. This might be due to the model overfitting. Looking at the trends, 0 and 1 seems to be too small of a architecture and undefits the data as there isn't enough to train on. On the other end, 500 and 1000 seem to be too large and starts overfitting. In addition, I tried architectures with mismatched neurons, which produced much higher errors that could even be compared to the errors of 0 or 1 layer. As a last observation, the training error is much lower while the validation and test errors are higher but very similar. This is expected as the model learns from the training set, so it remembers the patterns in the data better than using an unseen dataset.**"
      ]
    },
    {
      "cell_type": "markdown",
      "metadata": {
        "id": "Dkioyebvkkor"
      },
      "source": [
        "# Comparing performace between CPU and GPU"
      ]
    },
    {
      "cell_type": "markdown",
      "metadata": {
        "id": "Z9hEKyOLkkor"
      },
      "source": [
        "1. Add a keyword argument gpu that is False by default. If set to True, move data and neural network model to the GPU and train and test it there. Compare total execution time without and with the use of the GPU. You may need to use one of the campus GPU machines for this."
      ]
    },
    {
      "cell_type": "code",
      "execution_count": 15,
      "metadata": {
        "colab": {
          "base_uri": "https://localhost:8080/"
        },
        "id": "hcQptZKckrXW",
        "outputId": "7b832157-6bcd-49c8-cea6-d0fedf8455b7"
      },
      "outputs": [
        {
          "name": "stdout",
          "output_type": "stream",
          "text": [
            "CPU took 1111.651 seconds\n",
            "GPU took 125.787 seconds\n"
          ]
        }
      ],
      "source": [
        "list_of_n_hiddens = [[], [1], [5], [50], [200], [500], [1000], [1, 1], [5, 5], [50, 50], [200, 200], [500, 500], [1000, 1000], [50, 200], [1, 1, 1], [200, 200, 200], [500, 500, 500], [1, 50, 200], [200, 200, 200, 200]]\n",
        "\n",
        "#from earlier run\n",
        "print(f'CPU took {elapsed*3600:.3f} seconds')\n",
        "\n",
        "start = time.time()\n",
        "results = run_k_fold_cross_validation(X, T, 5, list_of_n_hiddens, 200, 0.01, 'tanh', gpu=True)\n",
        "elapsed = (time.time() - start)\n",
        "print(f'GPU took {elapsed:.3f} seconds')\n"
      ]
    }
  ],
  "metadata": {
    "colab": {
      "provenance": []
    },
    "kernelspec": {
      "display_name": "Python 3",
      "language": "python",
      "name": "python3"
    },
    "language_info": {
      "codemirror_mode": {
        "name": "ipython",
        "version": 3
      },
      "file_extension": ".py",
      "mimetype": "text/x-python",
      "name": "python",
      "nbconvert_exporter": "python",
      "pygments_lexer": "ipython3",
      "version": "3.11.4"
    },
    "toc": {
      "base_numbering": 1,
      "nav_menu": {},
      "number_sections": true,
      "sideBar": true,
      "skip_h1_title": false,
      "title_cell": "Table of Contents",
      "title_sidebar": "Contents",
      "toc_cell": false,
      "toc_position": {},
      "toc_section_display": true,
      "toc_window_display": true
    }
  },
  "nbformat": 4,
  "nbformat_minor": 0
}
