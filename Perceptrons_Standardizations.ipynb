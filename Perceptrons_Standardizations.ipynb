{
 "cells": [
  {
   "cell_type": "markdown",
   "metadata": {},
   "source": [
    "### Preliminaries\n",
    "\n",
    "We'll start with a review of the notation used to represent a dataset. In supervised learning we work with a dataset of $N$ labeled examples: $\\mathcal{D} = \\{ (\\mathbf{x}_i, y_i) \\}_{i=1}^N$, where $\\mathbf{x}_i$ is a $d$-dimensional vector (we always use boldface to denote vectors), and $y_i$ is the label associated with $\\mathbf{x}_i$.  Keep in mind that the formulation of the perceptron algorithm that we used relies on the labels are $\\pm 1$, so make sure that is the case for the data you use!\n",
    "\n",
    "In this assignment we will use the following datasets:\n",
    "\n",
    "\n",
    "* The [QSAR](https://archive.ics.uci.edu/dataset/254/qsar+biodegradation) data for predicting the biochemical activity of a molecule.\n",
    "* The [Wisconsin breast cancer dataset](http://scikit-learn.org/stable/modules/generated/sklearn.datasets.load_breast_cancer.html#sklearn.datasets.load_breast_cancer). \n",
    "* The [Gisette](https://archive.ics.uci.edu/dataset/170/gisette) handwritten digit recognition dataset. For this dataset you are provided separate training/validation/test sets.  Since the test set doesn't come with labels, use the validation set for testing the classifier.\n",
    "* The [heart disease diagnosis](https://archive.ics.uci.edu/dataset/45/heart+disease) dataset.\n",
    " "
   ]
  },
  {
   "cell_type": "markdown",
   "metadata": {},
   "source": [
    "## Part 0:  Data Loaders\n",
    "\n",
    "Write data loaders for each of the four datasets listed above.  Use the same API as you have done in assignment 1 for creating the penguins dataset.\n",
    "\n",
    "For example, a function ```load_qsar``` should return a feature matrix X and labels vector y for this dataset.  Similarly for the other datasets.  For the ```load_breast_cancer``` function, you may use the scikit-learn function that creates the dataset.  Since the gisette dataset has separate training and validation sets (that you will use as training / test sets), you will need to write two data loaders - one for the training set, and one for the test set.  Note that you will need to convert the labels from the values 0,1 to $\\pm 1$, since that is what our perceptron learning algorithm expects as label values.\n",
    "\n",
    "#### A note on the heart disease diagnosis dataset\n",
    "The heart disease diagnosis dataset has several data files associated with it.  The easiest would be to use [this file](http://archive.ics.uci.edu/ml/machine-learning-databases/heart-disease/processed.cleveland.data), where categorical variables have been replaced with numerical vaues.  The last column in the file contains the label associated with each example.  In the processed file, a label `0` corresponds to a healthy individual; other values correspond to varying levels of heart disease.  **In your experiments focus on the binary classification problem of trying to distinguish between healthy and non-healthy individuals.**\n"
   ]
  },
  {
   "cell_type": "code",
   "execution_count": 12,
   "metadata": {},
   "outputs": [],
   "source": [
    "import numpy as np\n",
    "import pandas as pd"
   ]
  },
  {
   "cell_type": "code",
   "execution_count": 13,
   "metadata": {},
   "outputs": [],
   "source": [
    "def load_qsar():\n",
    "    X = pd.read_csv('biodeg.csv', delimiter=';', usecols=range(0,41)).values\n",
    "    y = pd.read_csv('biodeg.csv', delimiter=';', usecols=range(41,42)).values\n",
    "    \n",
    "    #change RB to 1 for biodegradable and NRB to -1 for non-biodegradable\n",
    "    y[y == 'RB'] = 1\n",
    "    y[y == 'NRB'] = -1\n",
    "    \n",
    "    return X,y.astype(int).flatten()\n",
    "\n",
    "def load_breast_cancer():\n",
    "    from sklearn.datasets import load_breast_cancer\n",
    "    X,y = data = load_breast_cancer(return_X_y=True)\n",
    "    \n",
    "    #Changing 0s to -1\n",
    "    y[y == 0] = -1\n",
    "    \n",
    "    return X,y\n",
    "\n",
    "def load_gisette_train():\n",
    "    X = pd.read_csv('gisette_train.data', delimiter=' ', header=None).values\n",
    "    \n",
    "    with open('gisette_train.labels', 'r') as file:\n",
    "        lines = file.read().splitlines()\n",
    "    y = np.array(lines, dtype=int)\n",
    "    \n",
    "    return X[:, :-1],y\n",
    "\n",
    "def load_gisette_test():\n",
    "    X = pd.read_csv('gisette_valid.data', delimiter=' ', header=None).values\n",
    "    \n",
    "    with open('gisette_valid.labels', 'r') as file:\n",
    "        lines = file.read().splitlines()\n",
    "    y = np.array(lines, dtype=int)\n",
    "    \n",
    "    return X[:,:-1],y\n",
    "\n",
    "def load_heart():\n",
    "    heart_data = pd.read_csv('heart_disease.csv', header=None, na_values=['?']).values\n",
    "    #drop na\n",
    "    heart_data_na = heart_data[~np.any(np.isnan(heart_data), axis=1)]\n",
    "    \n",
    "    X = heart_data_na[:, :-1]\n",
    "    y = heart_data_na[:, -1].astype(int)\n",
    "    \n",
    "    #change 0 to 1 for healthy and anything above 0 to -1 for unhealthy\n",
    "    y[y > 0] = -1\n",
    "    y[y == 0] = 1\n",
    "    \n",
    "    return X, y\n"
   ]
  },
  {
   "cell_type": "markdown",
   "metadata": {},
   "source": [
    "Use the following function to check that your function returns arrays of the appropriate shapes (you will need to determine how many features / examples each dataset contains).  The only case where this is somewhat of a challenge is the heart dataset, which contains some missing values."
   ]
  },
  {
   "cell_type": "code",
   "execution_count": 14,
   "metadata": {},
   "outputs": [
    {
     "name": "stdout",
     "output_type": "stream",
     "text": [
      "validity for heart dataset:  True\n"
     ]
    }
   ],
   "source": [
    "def data_is_valid(X, y, examples=0, features=0):\n",
    "    return (\n",
    "        X.shape == (examples, features)\n",
    "        and y.shape == (examples,)\n",
    "        and not np.any(np.isnan(X))\n",
    "        and np.all((y==1) | (y==-1))\n",
    "    )\n",
    "\n",
    "# for example:\n",
    "heart_X, heart_y = load_heart()\n",
    "print(\"validity for heart dataset: \", data_is_valid(heart_X, heart_y, examples=297, features=13))\n"
   ]
  },
  {
   "cell_type": "markdown",
   "metadata": {},
   "source": [
    "## Part 1:  Evaluating the Perceptron on Real World Datasets\n",
    "\n",
    "In this part of the assignment you will work with the perceptron algorithm and run it on two real-world datasets.  For comparison, you will also evaluate an [SVM](https://scikit-learn.org/stable/modules/generated/sklearn.svm.SVC.html) classifier on the same datasets.  We will cover SVMs in detail later in the course, and here you will simply use it with its default settings.\n",
    "\n",
    "- Compare the performance of the  perceptron with the SVM classifier on the QSAR and breast cancer diagnosis datasets. Do so by estimating the accuracy on a sample of the data that you reserve for testing (the test set).  In each case reserve  70% of the data for training, and 30% for testing.  To gain more confidence in your error estimates, repeat this experiment using 10 random splits of the data into training/test sets for each algorithm.  Use the same train-test splits for each algorithm.  Report the average accuracy and its standard deviation in a nicely formatted table.  Is there a classifier among the two that appears to perform better?  In answering this, consider the differences in performance you observe in comparison to the standard deviation.  Make sure to let the perceptron algorithm run for a sufficient number of epochs.  In implementing this task, you may use a for loop to iterate over the 10 random splits.\n",
    "\n",
    "A note about the classifier API:  in this course we follow the scikit-learn classifier API, which requires that a classifier have the following methods (in addition to a constructor):\n",
    "\n",
    "* `fit(X, y)`:  trains a classifier using a feature matrix `X` and a labels vector `y`.\n",
    "* `predict(X)`:  given a feature matrix `X`, return a vector of labels for each feature vector represented by `X`.\n",
    "\n",
    "For those interested in more information about the scikit-learn API, here's a [link](https://scikit-learn.org/stable/developers/develop.html).\n"
   ]
  },
  {
   "cell_type": "markdown",
   "metadata": {},
   "source": [
    "### A note about displaying your results\n",
    "\n",
    "We recommend displaying the results of your experiments in the form of a automatically-generated table.  pandas DataFrame objects render nicely in Jupyter notebooks, and are an easy way to achieve this with minimal work.  Here's an example that you can use as a template:"
   ]
  },
  {
   "cell_type": "code",
   "execution_count": 15,
   "metadata": {},
   "outputs": [
    {
     "data": {
      "text/html": [
       "<div>\n",
       "<style scoped>\n",
       "    .dataframe tbody tr th:only-of-type {\n",
       "        vertical-align: middle;\n",
       "    }\n",
       "\n",
       "    .dataframe tbody tr th {\n",
       "        vertical-align: top;\n",
       "    }\n",
       "\n",
       "    .dataframe thead th {\n",
       "        text-align: right;\n",
       "    }\n",
       "</style>\n",
       "<table border=\"1\" class=\"dataframe\">\n",
       "  <thead>\n",
       "    <tr style=\"text-align: right;\">\n",
       "      <th></th>\n",
       "      <th>Classifier</th>\n",
       "      <th>Mean</th>\n",
       "      <th>StdDev</th>\n",
       "    </tr>\n",
       "  </thead>\n",
       "  <tbody>\n",
       "    <tr>\n",
       "      <th>0</th>\n",
       "      <td>Perceptron</td>\n",
       "      <td>0</td>\n",
       "      <td>0</td>\n",
       "    </tr>\n",
       "    <tr>\n",
       "      <th>1</th>\n",
       "      <td>SVM</td>\n",
       "      <td>0</td>\n",
       "      <td>0</td>\n",
       "    </tr>\n",
       "    <tr>\n",
       "      <th>2</th>\n",
       "      <td>Perceptron</td>\n",
       "      <td>0</td>\n",
       "      <td>0</td>\n",
       "    </tr>\n",
       "    <tr>\n",
       "      <th>3</th>\n",
       "      <td>SVM</td>\n",
       "      <td>0</td>\n",
       "      <td>0</td>\n",
       "    </tr>\n",
       "  </tbody>\n",
       "</table>\n",
       "</div>"
      ],
      "text/plain": [
       "   Classifier  Mean  StdDev\n",
       "0  Perceptron     0       0\n",
       "1         SVM     0       0\n",
       "2  Perceptron     0       0\n",
       "3         SVM     0       0"
      ]
     },
     "execution_count": 15,
     "metadata": {},
     "output_type": "execute_result"
    }
   ],
   "source": [
    "data = [\n",
    "    ['Perceptron', 0, 0],\n",
    "    ['SVM', 0, 0],\n",
    "    ['Perceptron', 0, 0],\n",
    "    ['SVM', 0, 0],\n",
    "]\n",
    "pd.DataFrame(data, columns = ['Classifier', 'Mean', 'StdDev'])"
   ]
  },
  {
   "cell_type": "code",
   "execution_count": 35,
   "metadata": {},
   "outputs": [],
   "source": [
    "#Class for the implementation of the perceptron algorithm\n",
    "from matplotlib import pyplot as plt\n",
    "\n",
    "class perceptron :\n",
    "    \"\"\"An implementation of the perceptron algorithm.\n",
    "    Note that this implementation does not include a bias term\"\"\"\n",
    " \n",
    "    def __init__(self, iterations=100, learning_rate=0.2, \n",
    "                 plot_data=False, random_w=False, seed=42) :\n",
    "        self.iterations = iterations\n",
    "        self.learning_rate = learning_rate\n",
    "        self.plot_data = plot_data\n",
    "        self.random_w = random_w\n",
    "        self.seed = seed\n",
    "  \n",
    "    def fit(self, X, y) :\n",
    "        \"\"\"\n",
    "        Train a classifier using the perceptron training algorithm.\n",
    "        After training the attribute 'w' will contain the perceptron weight vector.\n",
    " \n",
    "        Parameters\n",
    "        ----------\n",
    " \n",
    "        X : ndarray, shape (num_examples, n_features)\n",
    "        Training data.\n",
    " \n",
    "        y : ndarray, shape (n_examples,)\n",
    "        Array of labels.\n",
    " \n",
    "        \"\"\"\n",
    "        \n",
    "        if self.random_w :\n",
    "            rng = np.random.default_rng(self.seed)\n",
    "            self.w = rng.uniform(-1 , 1, len(X[0]))\n",
    "            print(\"initialized with random weight vector\")\n",
    "        else :\n",
    "            self.w = np.zeros(len(X[0]))\n",
    "            print(\"initialized with a zeros weight vector\")\n",
    "        self.wold = self.w\n",
    "        converged = False\n",
    "        iteration = 0\n",
    "        while (not converged and iteration <= self.iterations) :\n",
    "            converged = True\n",
    "            for i in range(len(X)) :\n",
    "                if y[i] * self.decision_function(X[i]) <= 0 :\n",
    "                    self.wold = self.w\n",
    "                    self.w = self.w + y[i] * self.learning_rate * X[i]\n",
    "                    converged = False\n",
    "                    if self.plot_data:\n",
    "                        self.plot_update(X, y, i)\n",
    "            iteration += 1\n",
    "        self.converged = converged\n",
    "        if converged :\n",
    "            print ('converged in %d iterations ' % iteration)\n",
    "            \n",
    "        X = X[:,:-1]\n",
    " \n",
    "    def decision_function(self, x) :\n",
    "        return np.dot(x, self.w)\n",
    " \n",
    "    def predict(self, X) :\n",
    "        \"\"\"\n",
    "        make predictions using a trained linear classifier\n",
    " \n",
    "        Parameters\n",
    "        ----------\n",
    " \n",
    "        X : ndarray, shape (num_examples, n_features)\n",
    "        Training data.\n",
    "        \"\"\"\n",
    " \n",
    "        scores = np.dot(X, self.w)\n",
    "        return np.sign(scores)\n",
    "    \n",
    "    def plot_update(self, X, y, ipt) :\n",
    "        fig = plt.figure(figsize=(4,4))\n",
    "        plt.xlim(-1,1)\n",
    "        plt.ylim(-1,1)\n",
    "        plt.xlabel(\"Feature 1\")\n",
    "        plt.ylabel(\"Feature 2\")\n",
    "        plt.arrow(0,0,self.w[0],self.w[1], \n",
    "                  width=0.001,head_width=0.05, \n",
    "                  length_includes_head=True, alpha=1,\n",
    "                  linestyle='-',color='darkred')\n",
    "        plt.arrow(0,0,self.wold[0],self.wold[1], \n",
    "                  width=0.001,head_width=0.05, \n",
    "                  length_includes_head=True, alpha=1,\n",
    "                  linestyle='-',color='orange')\n",
    "        anew = -self.w[0]/self.w[1]\n",
    "        aold = -self.wold[0]/self.wold[1]\n",
    "        pts = np.linspace(-1,1)\n",
    "        plt.plot(pts, anew*pts, color='darkred')\n",
    "        plt.plot(pts, aold*pts, color='orange')\n",
    "        plt.title(\"in orange:  old w; in red:  new w\")\n",
    "        cols = {1: 'g', -1: 'b'}\n",
    "        for i in range(len(X)): \n",
    "            plt.plot(X[i][0], X[i][1], cols[y[i]]+'o', alpha=0.6,markersize=5) \n",
    "        plt.plot(X[ipt][0], X[ipt][1], 'ro', alpha=0.2,markersize=20)"
   ]
  },
  {
   "cell_type": "code",
   "execution_count": 36,
   "metadata": {},
   "outputs": [
    {
     "name": "stdout",
     "output_type": "stream",
     "text": [
      "initialized with a zeros weight vector\n",
      "initialized with a zeros weight vector\n",
      "initialized with a zeros weight vector\n",
      "initialized with a zeros weight vector\n",
      "initialized with a zeros weight vector\n",
      "initialized with a zeros weight vector\n",
      "initialized with a zeros weight vector\n",
      "initialized with a zeros weight vector\n",
      "initialized with a zeros weight vector\n",
      "initialized with a zeros weight vector\n",
      "initialized with a zeros weight vector\n",
      "initialized with a zeros weight vector\n",
      "initialized with a zeros weight vector\n",
      "initialized with a zeros weight vector\n",
      "initialized with a zeros weight vector\n",
      "initialized with a zeros weight vector\n",
      "initialized with a zeros weight vector\n",
      "initialized with a zeros weight vector\n",
      "initialized with a zeros weight vector\n",
      "initialized with a zeros weight vector\n"
     ]
    },
    {
     "data": {
      "text/html": [
       "<div>\n",
       "<style scoped>\n",
       "    .dataframe tbody tr th:only-of-type {\n",
       "        vertical-align: middle;\n",
       "    }\n",
       "\n",
       "    .dataframe tbody tr th {\n",
       "        vertical-align: top;\n",
       "    }\n",
       "\n",
       "    .dataframe thead th {\n",
       "        text-align: right;\n",
       "    }\n",
       "</style>\n",
       "<table border=\"1\" class=\"dataframe\">\n",
       "  <thead>\n",
       "    <tr style=\"text-align: right;\">\n",
       "      <th></th>\n",
       "      <th>Classifier</th>\n",
       "      <th>Mean</th>\n",
       "      <th>StdDev</th>\n",
       "    </tr>\n",
       "  </thead>\n",
       "  <tbody>\n",
       "    <tr>\n",
       "      <th>0</th>\n",
       "      <td>Perceptron (QSAR)</td>\n",
       "      <td>0.809779</td>\n",
       "      <td>0.068303</td>\n",
       "    </tr>\n",
       "    <tr>\n",
       "      <th>1</th>\n",
       "      <td>SVM (QSAR)</td>\n",
       "      <td>0.812303</td>\n",
       "      <td>0.025676</td>\n",
       "    </tr>\n",
       "    <tr>\n",
       "      <th>2</th>\n",
       "      <td>Perceptron (BC)</td>\n",
       "      <td>0.911696</td>\n",
       "      <td>0.034936</td>\n",
       "    </tr>\n",
       "    <tr>\n",
       "      <th>3</th>\n",
       "      <td>SVM (BC)</td>\n",
       "      <td>0.908187</td>\n",
       "      <td>0.018129</td>\n",
       "    </tr>\n",
       "  </tbody>\n",
       "</table>\n",
       "</div>"
      ],
      "text/plain": [
       "          Classifier      Mean    StdDev\n",
       "0  Perceptron (QSAR)  0.809779  0.068303\n",
       "1         SVM (QSAR)  0.812303  0.025676\n",
       "2    Perceptron (BC)  0.911696  0.034936\n",
       "3           SVM (BC)  0.908187  0.018129"
      ]
     },
     "execution_count": 36,
     "metadata": {},
     "output_type": "execute_result"
    }
   ],
   "source": [
    "#Spliting the data into training set and test set\n",
    "from sklearn.model_selection import train_test_split\n",
    "from sklearn.svm import SVC\n",
    "\n",
    "X_qsar, y_qsar = load_qsar()\n",
    "X_breast, y_breast = load_breast_cancer()\n",
    "qsar_data = [[],[]]\n",
    "breast_cancer_data = [[],[]]\n",
    "\n",
    "for i in range(10):\n",
    "    X_qsar_train, X_qsar_test, y_qsar_train, y_qsar_test = train_test_split(X_qsar,y_qsar,test_size=0.3)\n",
    "    X_breast_train, X_breast_test, y_breast_train, y_breast_test = train_test_split(X_breast,y_breast,test_size=0.3)\n",
    "    \n",
    "    p = perceptron(iterations=2000, learning_rate=0.1)\n",
    "    svm = SVC()\n",
    "    \n",
    "    #For QSAR: Perceptron\n",
    "    p.fit(X_qsar_train, y_qsar_train)\n",
    "    y_pred = p.predict(X_qsar_test)\n",
    "    qsar_data[0].append(np.mean(y_qsar_test == y_pred))\n",
    "    #For QSAR: SVM\n",
    "    svm.fit(X_qsar_train, y_qsar_train)\n",
    "    svm_pred = svm.predict(X_qsar_test)\n",
    "    qsar_data[1].append(np.mean(y_qsar_test == svm_pred))\n",
    "    \n",
    "    #For Breast Cancer: Perceptron\n",
    "    p.fit(X_breast_train, y_breast_train)\n",
    "    y_pred = p.predict(X_breast_test)\n",
    "    breast_cancer_data[0].append(np.mean(y_breast_test == y_pred))\n",
    "    #For Breast Cancer: SVM\n",
    "    svm.fit(X_breast_train, y_breast_train)\n",
    "    svm_pred = svm.predict(X_breast_test)\n",
    "    breast_cancer_data[1].append(np.mean(y_breast_test == svm_pred))\n",
    "\n",
    "qsar_data_array = np.array(qsar_data)\n",
    "breast_cancer_data_array = np.array(breast_cancer_data)\n",
    "\n",
    "performance_df = [\n",
    "    ['Perceptron (QSAR)', np.mean(qsar_data_array[0,:]), np.std(qsar_data_array[0,:])],\n",
    "    ['SVM (QSAR)', np.mean(qsar_data_array[1,:]), np.std(qsar_data_array[1,:])],\n",
    "    ['Perceptron (BC)', np.mean(breast_cancer_data_array[0,:]), np.std(breast_cancer_data_array[0,:])],\n",
    "    ['SVM (BC)', np.mean(breast_cancer_data_array[1,:]), np.std(breast_cancer_data_array[1,:])],\n",
    "]\n",
    "\n",
    "pd.DataFrame(performance_df, columns=['Classifier', 'Mean', 'StdDev'])\n"
   ]
  },
  {
   "cell_type": "markdown",
   "metadata": {},
   "source": [
    "*For the most part, the mean accuracy seems to be around the same value for both classifiers. I used multiple iterations as well, and the results were consistently alike. Sometimes, the percepton performed better, but for the most time, the SVM was more accurate. However, one of the most noticeable difference was with the standard deviation. The SVM always had a lower standard deviation, which implies that a higher percentage of the data was classified correctly. Overall, it seems like the SVM is a better indicator for its similar/higher accuracy and lower standard deviation.*"
   ]
  },
  {
   "cell_type": "markdown",
   "metadata": {},
   "source": [
    "## Part 2:  Learning Curves \n",
    "\n",
    "Whenever we train a classifier it is useful to know if we have collected a sufficient amount of data for accurate classification.  A good way of determining that is to construct a **learning curve**, which is a plot of classifier performance as a function of the number of training examples.  Plot a learning curve for the perceptron algorithm using the [Gisette](http://archive.ics.uci.edu/dataset/170/gisette) handwritten digit recognition dataset. For this dataset use the separately provided validation set for testing your classifiers.  A test set is provided without its labels, so is not usable for us.\n",
    "The x-axis for the plot (number of training examples) should be on a logarithmic scale - something like 10,20,40,80,200,400,800.  Use numbers that are appropriate for the dataset at hand, choosing values that illustrate the variation that you observe.  What can you conclude from the learning curve you have constructed for this particular dataset?\n",
    "In answering this question, you can use the following [wikipedia article](https://en.wikipedia.org/wiki/Learning_curve#In_machine_learning).\n",
    "Make sure that you use a fixed test set to evaluate performance while varying the size of the training set.\n"
   ]
  },
  {
   "cell_type": "code",
   "execution_count": 26,
   "metadata": {},
   "outputs": [
    {
     "name": "stdout",
     "output_type": "stream",
     "text": [
      "initialized with a zeros weight vector\n",
      "converged in 3 iterations \n",
      "initialized with a zeros weight vector\n",
      "converged in 5 iterations \n",
      "initialized with a zeros weight vector\n",
      "converged in 5 iterations \n",
      "initialized with a zeros weight vector\n",
      "converged in 6 iterations \n",
      "initialized with a zeros weight vector\n",
      "converged in 7 iterations \n",
      "initialized with a zeros weight vector\n",
      "converged in 7 iterations \n",
      "initialized with a zeros weight vector\n",
      "converged in 8 iterations \n",
      "initialized with a zeros weight vector\n",
      "converged in 12 iterations \n",
      "initialized with a zeros weight vector\n",
      "converged in 8 iterations \n",
      "initialized with a zeros weight vector\n",
      "converged in 16 iterations \n"
     ]
    }
   ],
   "source": [
    "X_gisette_test, y_gisette_test = load_gisette_test()\n",
    "X_gisette_train, y_gisette_train = load_gisette_train()\n",
    "\n",
    "num_train = [10, 20, 40, 80, 200, 400, 800, 1600, 2400, 4800]\n",
    "performance_gisette = []\n",
    "\n",
    "for i in num_train:\n",
    "    p = perceptron(iterations=1000, learning_rate=0.1)\n",
    "    p.fit(X_gisette_train[:i,:], y_gisette_train[:i])\n",
    "    y_pred = p.predict(X_gisette_test)\n",
    "    performance_gisette.append(np.mean(y_gisette_test == y_pred))"
   ]
  },
  {
   "cell_type": "code",
   "execution_count": 27,
   "metadata": {},
   "outputs": [
    {
     "data": {
      "text/plain": [
       "Text(0, 0.5, 'Accuracy')"
      ]
     },
     "execution_count": 27,
     "metadata": {},
     "output_type": "execute_result"
    },
    {
     "data": {
      "image/png": "[encoded data removed]",
      "text/plain": [
       "<Figure size 640x480 with 1 Axes>"
      ]
     },
     "metadata": {},
     "output_type": "display_data"
    }
   ],
   "source": [
    "plt.figure()\n",
    "plt.semilogx(num_train, performance_gisette)\n",
    "plt.title('Learning Curve of Gisette Dataset')\n",
    "plt.xlabel('Num training values')\n",
    "plt.ylabel('Accuracy')"
   ]
  },
  {
   "cell_type": "markdown",
   "metadata": {},
   "source": [
    "*The learning curve plotted above displays how the performance, or the accuracy, of the model increases as the number of training value increases. With more data, the model can learn more about the data, and improve its ability to classify data. I think it would be intersting to see how epochs would affect this test, since I would assume a larger set requires more epochs to reach a good solution. In practice, I think you could use this model to interpret what the ideal number of training values is for a dataset by looking at the start of a plateau.*"
   ]
  },
  {
   "cell_type": "markdown",
   "metadata": {},
   "source": [
    "## Part 3:  Data standardization \n",
    "\n",
    "In this section we will explore the effect of normalizing the data, focusing on normalization of each feature individually.  In class we saw how to convert each column (i.e. feature) of a data matrix so that it fall in the range $[-1,1]$.  In this assignment we will explore a different approach callled **standardization**.\n",
    "\n",
    "Here's what you need to do:\n",
    "\n",
    "* Write a method to standardize a data matrix, so that each column has zero mean and standard deviation equal to 1.  This is done by subtracting the mean of each column, and dividing by its standard deviation.  See details [here](https://en.wikipedia.org/wiki/Feature_scaling#Standardization_(Z-score_Normalization)).  Scikit-learn has a method called [StandardScaler](https://scikit-learn.org/stable/modules/generated/sklearn.preprocessing.StandardScaler.html) which does this.  Do not use it!  To demonstrate that your method works correctly, show that after standardization, your feature matrix has a zero mean and standard deviation equal to 1 for each column.  Make sure not to use for loops!\n",
    "\n",
    "* Compare the accuracy of the standard perceptron on the heart dataset  with standardization and without it (make sure to evaluate the accuracy on a held out test set).  Like we did earlier, report the accuracy as the average over ten train-test splits.  Which leads to better performance?  Can you explain why?\n"
   ]
  },
  {
   "cell_type": "code",
   "execution_count": 28,
   "metadata": {},
   "outputs": [
    {
     "name": "stdout",
     "output_type": "stream",
     "text": [
      "Mean of each column after standardization:\n",
      "[-1.05041303e-16 -2.78864100e-16 -4.63527458e-17  4.76143629e-16\n",
      " -2.36156026e-16  5.60718699e-17  1.97372982e-16  5.14365953e-16\n",
      " -2.50454352e-17 -2.79985537e-16  1.27096239e-17 -2.22792230e-16\n",
      " -1.16255677e-16]\n",
      "Standard Deviation of each column after standardization:\n",
      "[1. 1. 1. 1. 1. 1. 1. 1. 1. 1. 1. 1. 1.]\n"
     ]
    }
   ],
   "source": [
    "X_heart, y_heart = load_heart()\n",
    "\n",
    "#Calculating the mean and std of each column\n",
    "mean_heart = np.mean(X_heart, axis=0)\n",
    "std_heart = np.std(X_heart, axis=0)\n",
    "\n",
    "#Subtracting the mean and dividing by std\n",
    "X_heart_standard = X_heart - mean_heart\n",
    "X_heart_standard = X_heart_standard / std_heart\n",
    "\n",
    "#Validation of standardization\n",
    "print('Mean of each column after standardization:')\n",
    "print(np.mean(X_heart_standard, axis=0))\n",
    "print('Standard Deviation of each column after standardization:')\n",
    "print(np.std(X_heart_standard, axis=0))"
   ]
  },
  {
   "cell_type": "code",
   "execution_count": 29,
   "metadata": {},
   "outputs": [
    {
     "name": "stdout",
     "output_type": "stream",
     "text": [
      "initialized with a zeros weight vector\n",
      "initialized with a zeros weight vector\n",
      "initialized with a zeros weight vector\n",
      "initialized with a zeros weight vector\n",
      "initialized with a zeros weight vector\n",
      "initialized with a zeros weight vector\n",
      "initialized with a zeros weight vector\n",
      "initialized with a zeros weight vector\n",
      "initialized with a zeros weight vector\n",
      "initialized with a zeros weight vector\n",
      "initialized with a zeros weight vector\n",
      "initialized with a zeros weight vector\n",
      "initialized with a zeros weight vector\n",
      "initialized with a zeros weight vector\n",
      "initialized with a zeros weight vector\n",
      "initialized with a zeros weight vector\n",
      "initialized with a zeros weight vector\n",
      "initialized with a zeros weight vector\n",
      "initialized with a zeros weight vector\n",
      "initialized with a zeros weight vector\n"
     ]
    }
   ],
   "source": [
    "heart_data = [[],[]]\n",
    "\n",
    "for i in range(10):\n",
    "    X_heart_train, X_heart_test, y_heart_train, y_heart_test = train_test_split(X_heart,y_heart,test_size=0.3)\n",
    "    X_heart_std_train, X_heart_std_test, y_heart_std_train, y_heart_std_test = train_test_split(X_heart_standard,y_heart,test_size=0.3)\n",
    "    \n",
    "    p = perceptron(iterations=10000, learning_rate=0.1)\n",
    "    \n",
    "    #for non-standard\n",
    "    p.fit(X_heart_train, y_heart_train)\n",
    "    y_pred = p.predict(X_heart_test)\n",
    "    heart_data[0].append(np.mean(y_heart_test == y_pred))\n",
    "    \n",
    "    #for standard\n",
    "    p.fit(X_heart_std_train, y_heart_std_train)\n",
    "    y_pred = p.predict(X_heart_std_test)\n",
    "    heart_data[1].append(np.mean(y_heart_std_test == y_pred))"
   ]
  },
  {
   "cell_type": "code",
   "execution_count": 30,
   "metadata": {},
   "outputs": [
    {
     "data": {
      "text/html": [
       "<div>\n",
       "<style scoped>\n",
       "    .dataframe tbody tr th:only-of-type {\n",
       "        vertical-align: middle;\n",
       "    }\n",
       "\n",
       "    .dataframe tbody tr th {\n",
       "        vertical-align: top;\n",
       "    }\n",
       "\n",
       "    .dataframe thead th {\n",
       "        text-align: right;\n",
       "    }\n",
       "</style>\n",
       "<table border=\"1\" class=\"dataframe\">\n",
       "  <thead>\n",
       "    <tr style=\"text-align: right;\">\n",
       "      <th></th>\n",
       "      <th>Data</th>\n",
       "      <th>Mean</th>\n",
       "      <th>StdDev</th>\n",
       "    </tr>\n",
       "  </thead>\n",
       "  <tbody>\n",
       "    <tr>\n",
       "      <th>0</th>\n",
       "      <td>Non-standard</td>\n",
       "      <td>0.750000</td>\n",
       "      <td>0.088367</td>\n",
       "    </tr>\n",
       "    <tr>\n",
       "      <th>1</th>\n",
       "      <td>Standard</td>\n",
       "      <td>0.815556</td>\n",
       "      <td>0.040430</td>\n",
       "    </tr>\n",
       "  </tbody>\n",
       "</table>\n",
       "</div>"
      ],
      "text/plain": [
       "           Data      Mean    StdDev\n",
       "0  Non-standard  0.750000  0.088367\n",
       "1      Standard  0.815556  0.040430"
      ]
     },
     "execution_count": 30,
     "metadata": {},
     "output_type": "execute_result"
    }
   ],
   "source": [
    "heart_data_array = np.array(heart_data)\n",
    "\n",
    "heart_df = [\n",
    "    ['Non-standard', np.mean(heart_data_array[0,:]), np.std(heart_data_array[0,:])],\n",
    "    ['Standard', np.mean(heart_data_array[1,:]), np.std(heart_data_array[1,:])],\n",
    "]\n",
    "\n",
    "pd.DataFrame(heart_df, columns=['Data', 'Mean', 'StdDev'])"
   ]
  },
  {
   "cell_type": "markdown",
   "metadata": {},
   "source": [
    "*With less iterations, there does seem to be a difference between the accuracy. Often, I got a .57 for non-standard and .75 for standard with iterations of 10 or 100. However, with more iterations, I noticed that the accuracy seem to be very similar, with both being within 3-4% of each other. I think standardization is more effective when the epochs are low, but as the iterations grow, the model learns more from the data and they both reach a point of plateau.*"
   ]
  },
  {
   "cell_type": "markdown",
   "metadata": {},
   "source": [
    "### Your Report\n",
    "\n",
    "Answer the questions in the cells reserved for that purpose.\n",
    "\n",
    "\n",
    "### Submission\n",
    "\n",
    "Submit your report as a Jupyter notebook via Canvas.  Running the notebook should generate all the results and plots in your notebook.\n",
    "\n",
    "### Grading \n",
    "\n",
    "\n",
    "```\n",
    "Grading sheet for assignment 2\n",
    "Part 0:  2 points\n",
    "Part 1:  4 points\n",
    "Part 2:  2 points\n",
    "Part 3:  2 points\n",
    "```\n",
    "\n"
   ]
  }
 ],
 "metadata": {
  "kernelspec": {
   "display_name": "Python 3 (ipykernel)",
   "language": "python",
   "name": "python3"
  },
  "language_info": {
   "codemirror_mode": {
    "name": "ipython",
    "version": 3
   },
   "file_extension": ".py",
   "mimetype": "text/x-python",
   "name": "python",
   "nbconvert_exporter": "python",
   "pygments_lexer": "ipython3",
   "version": "3.11.4"
  }
 },
 "nbformat": 4,
 "nbformat_minor": 1
}
